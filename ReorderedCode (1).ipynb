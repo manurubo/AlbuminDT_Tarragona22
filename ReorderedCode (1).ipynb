{
 "cells": [
  {
   "cell_type": "code",
   "execution_count": 2,
   "id": "2e092382-ac1a-4020-9877-e1f6a8203b69",
   "metadata": {},
   "outputs": [
    {
     "name": "stdout",
     "output_type": "stream",
     "text": [
      "Requirement already satisfied: fastparquet in /opt/conda/lib/python3.7/site-packages (0.8.1)\n",
      "Requirement already satisfied: numpy>=1.18 in /opt/conda/lib/python3.7/site-packages (from fastparquet) (1.21.6)\n",
      "Requirement already satisfied: fsspec in /opt/conda/lib/python3.7/site-packages (from fastparquet) (2022.7.1)\n",
      "Requirement already satisfied: cramjam>=2.3.0 in /opt/conda/lib/python3.7/site-packages (from fastparquet) (2.6.2)\n",
      "Requirement already satisfied: pandas>=1.1.0 in /opt/conda/lib/python3.7/site-packages (from fastparquet) (1.3.5)\n",
      "Requirement already satisfied: python-dateutil>=2.7.3 in /opt/conda/lib/python3.7/site-packages (from pandas>=1.1.0->fastparquet) (2.8.1)\n",
      "Requirement already satisfied: pytz>=2017.3 in /opt/conda/lib/python3.7/site-packages (from pandas>=1.1.0->fastparquet) (2019.3)\n",
      "Requirement already satisfied: six>=1.5 in /opt/conda/lib/python3.7/site-packages (from python-dateutil>=2.7.3->pandas>=1.1.0->fastparquet) (1.14.0)\n",
      "\u001b[33mWARNING: Running pip as the 'root' user can result in broken permissions and conflicting behaviour with the system package manager. It is recommended to use a virtual environment instead: https://pip.pypa.io/warnings/venv\u001b[0m\u001b[33m\n",
      "\u001b[0m\n",
      "\u001b[1m[\u001b[0m\u001b[34;49mnotice\u001b[0m\u001b[1;39;49m]\u001b[0m\u001b[39;49m A new release of pip available: \u001b[0m\u001b[31;49m22.2.2\u001b[0m\u001b[39;49m -> \u001b[0m\u001b[32;49m22.3.1\u001b[0m\n",
      "\u001b[1m[\u001b[0m\u001b[34;49mnotice\u001b[0m\u001b[1;39;49m]\u001b[0m\u001b[39;49m To update, run: \u001b[0m\u001b[32;49mpip install --upgrade pip\u001b[0m\n",
      "Note: you may need to restart the kernel to use updated packages.\n"
     ]
    }
   ],
   "source": [
    "pip install fastparquet"
   ]
  },
  {
   "cell_type": "markdown",
   "id": "a7348653-78fc-4ff1-9f65-9cd7739d7f79",
   "metadata": {},
   "source": [
    "# Data Extraction for ALBUMIN: FRIEND OR FOE?\n",
    "\n",
    "This script is in charge of extracting the data from the project developed during the tarragona 2022 datathon. In this code we study the variables that we want to extract from the icusics-db database and finally we extract and merge them to create a final dataset.  \n"
   ]
  },
  {
   "cell_type": "code",
   "execution_count": 360,
   "id": "64b8011e-5fcf-4c77-a98a-34acce45371b",
   "metadata": {},
   "outputs": [],
   "source": [
    "import boto3\n",
    "import pandas as pd\n",
    "import numpy as np\n",
    "import re\n",
    "from sagemaker import get_execution_role\n",
    "role = get_execution_role()\n",
    "s3 = boto3.resource('s3')"
   ]
  },
  {
   "cell_type": "markdown",
   "id": "bd664e08-b121-4608-af07-7f9d3127da49",
   "metadata": {},
   "source": [
    "First of all we load the patients database and the d_variables database and d_pharma in order to get the whole cohort of patients possible and the reference of the variables. "
   ]
  },
  {
   "cell_type": "code",
   "execution_count": 361,
   "id": "78a34bcf-ae8f-4561-b81b-3caf985771db",
   "metadata": {},
   "outputs": [],
   "source": [
    "icusics_db_patients = pd.read_parquet(\"s3://icusics-db/patients/patients.parquet\")"
   ]
  },
  {
   "cell_type": "code",
   "execution_count": 174,
   "id": "19c744a3-44de-4a5f-9b59-f947bf70e2d4",
   "metadata": {},
   "outputs": [
    {
     "data": {
      "text/html": [
       "<div>\n",
       "<style scoped>\n",
       "    .dataframe tbody tr th:only-of-type {\n",
       "        vertical-align: middle;\n",
       "    }\n",
       "\n",
       "    .dataframe tbody tr th {\n",
       "        vertical-align: top;\n",
       "    }\n",
       "\n",
       "    .dataframe thead th {\n",
       "        text-align: right;\n",
       "    }\n",
       "</style>\n",
       "<table border=\"1\" class=\"dataframe\">\n",
       "  <thead>\n",
       "    <tr style=\"text-align: right;\">\n",
       "      <th></th>\n",
       "      <th>hospital_coded</th>\n",
       "      <th>a_patientid</th>\n",
       "      <th>patientsex</th>\n",
       "      <th>age</th>\n",
       "      <th>height</th>\n",
       "      <th>weight</th>\n",
       "      <th>bmi</th>\n",
       "      <th>hospadmtime</th>\n",
       "      <th>distime</th>\n",
       "      <th>hospdistime</th>\n",
       "      <th>hospital_outcome</th>\n",
       "    </tr>\n",
       "  </thead>\n",
       "  <tbody>\n",
       "    <tr>\n",
       "      <th>0</th>\n",
       "      <td>1</td>\n",
       "      <td>1000091</td>\n",
       "      <td>M</td>\n",
       "      <td>70</td>\n",
       "      <td>160</td>\n",
       "      <td>50</td>\n",
       "      <td>20</td>\n",
       "      <td>-549</td>\n",
       "      <td>6034</td>\n",
       "      <td>24482</td>\n",
       "      <td>ALIVE</td>\n",
       "    </tr>\n",
       "    <tr>\n",
       "      <th>1</th>\n",
       "      <td>1</td>\n",
       "      <td>1000109</td>\n",
       "      <td>M</td>\n",
       "      <td>50</td>\n",
       "      <td>160</td>\n",
       "      <td>80</td>\n",
       "      <td>31</td>\n",
       "      <td>-12516</td>\n",
       "      <td>10118</td>\n",
       "      <td>32875</td>\n",
       "      <td>ALIVE</td>\n",
       "    </tr>\n",
       "    <tr>\n",
       "      <th>2</th>\n",
       "      <td>1</td>\n",
       "      <td>1000211</td>\n",
       "      <td>M</td>\n",
       "      <td>70</td>\n",
       "      <td>160</td>\n",
       "      <td>60</td>\n",
       "      <td>23</td>\n",
       "      <td>-13013</td>\n",
       "      <td>2495</td>\n",
       "      <td>2495</td>\n",
       "      <td>EXITUS</td>\n",
       "    </tr>\n",
       "    <tr>\n",
       "      <th>3</th>\n",
       "      <td>1</td>\n",
       "      <td>1000999</td>\n",
       "      <td>F</td>\n",
       "      <td>30</td>\n",
       "      <td>150</td>\n",
       "      <td>60</td>\n",
       "      <td>27</td>\n",
       "      <td>-1731</td>\n",
       "      <td>8597</td>\n",
       "      <td>21402</td>\n",
       "      <td>ALIVE</td>\n",
       "    </tr>\n",
       "    <tr>\n",
       "      <th>4</th>\n",
       "      <td>1</td>\n",
       "      <td>1001000</td>\n",
       "      <td>F</td>\n",
       "      <td>50</td>\n",
       "      <td>160</td>\n",
       "      <td>80</td>\n",
       "      <td>31</td>\n",
       "      <td>0</td>\n",
       "      <td>31713</td>\n",
       "      <td>31830</td>\n",
       "      <td>EXITUS</td>\n",
       "    </tr>\n",
       "    <tr>\n",
       "      <th>...</th>\n",
       "      <td>...</td>\n",
       "      <td>...</td>\n",
       "      <td>...</td>\n",
       "      <td>...</td>\n",
       "      <td>...</td>\n",
       "      <td>...</td>\n",
       "      <td>...</td>\n",
       "      <td>...</td>\n",
       "      <td>...</td>\n",
       "      <td>...</td>\n",
       "      <td>...</td>\n",
       "    </tr>\n",
       "    <tr>\n",
       "      <th>21134</th>\n",
       "      <td>6</td>\n",
       "      <td>6998109</td>\n",
       "      <td>M</td>\n",
       "      <td>50</td>\n",
       "      <td>180</td>\n",
       "      <td>70</td>\n",
       "      <td>22</td>\n",
       "      <td>-17</td>\n",
       "      <td>1756</td>\n",
       "      <td>8806</td>\n",
       "      <td>ALIVE</td>\n",
       "    </tr>\n",
       "    <tr>\n",
       "      <th>21135</th>\n",
       "      <td>6</td>\n",
       "      <td>6998382</td>\n",
       "      <td>F</td>\n",
       "      <td>50</td>\n",
       "      <td>160</td>\n",
       "      <td>100</td>\n",
       "      <td>39</td>\n",
       "      <td>-1216</td>\n",
       "      <td>4321</td>\n",
       "      <td>8410</td>\n",
       "      <td>ALIVE</td>\n",
       "    </tr>\n",
       "    <tr>\n",
       "      <th>21136</th>\n",
       "      <td>6</td>\n",
       "      <td>6998565</td>\n",
       "      <td>F</td>\n",
       "      <td>40</td>\n",
       "      <td>170</td>\n",
       "      <td>90</td>\n",
       "      <td>31</td>\n",
       "      <td>-680</td>\n",
       "      <td>3436</td>\n",
       "      <td>8126</td>\n",
       "      <td>ALIVE</td>\n",
       "    </tr>\n",
       "    <tr>\n",
       "      <th>21137</th>\n",
       "      <td>6</td>\n",
       "      <td>6998846</td>\n",
       "      <td>F</td>\n",
       "      <td>80</td>\n",
       "      <td>160</td>\n",
       "      <td>80</td>\n",
       "      <td>31</td>\n",
       "      <td>-553</td>\n",
       "      <td>1267</td>\n",
       "      <td>2610</td>\n",
       "      <td>ALIVE</td>\n",
       "    </tr>\n",
       "    <tr>\n",
       "      <th>21138</th>\n",
       "      <td>6</td>\n",
       "      <td>6999255</td>\n",
       "      <td>F</td>\n",
       "      <td>50</td>\n",
       "      <td>160</td>\n",
       "      <td>120</td>\n",
       "      <td>47</td>\n",
       "      <td>-2</td>\n",
       "      <td>4724</td>\n",
       "      <td>13265</td>\n",
       "      <td>ALIVE</td>\n",
       "    </tr>\n",
       "  </tbody>\n",
       "</table>\n",
       "<p>21139 rows × 11 columns</p>\n",
       "</div>"
      ],
      "text/plain": [
       "       hospital_coded  a_patientid patientsex  age  height  weight  bmi  \\\n",
       "0                   1      1000091          M   70     160      50   20   \n",
       "1                   1      1000109          M   50     160      80   31   \n",
       "2                   1      1000211          M   70     160      60   23   \n",
       "3                   1      1000999          F   30     150      60   27   \n",
       "4                   1      1001000          F   50     160      80   31   \n",
       "...               ...          ...        ...  ...     ...     ...  ...   \n",
       "21134               6      6998109          M   50     180      70   22   \n",
       "21135               6      6998382          F   50     160     100   39   \n",
       "21136               6      6998565          F   40     170      90   31   \n",
       "21137               6      6998846          F   80     160      80   31   \n",
       "21138               6      6999255          F   50     160     120   47   \n",
       "\n",
       "       hospadmtime  distime  hospdistime hospital_outcome  \n",
       "0             -549     6034        24482            ALIVE  \n",
       "1           -12516    10118        32875            ALIVE  \n",
       "2           -13013     2495         2495           EXITUS  \n",
       "3            -1731     8597        21402            ALIVE  \n",
       "4                0    31713        31830           EXITUS  \n",
       "...            ...      ...          ...              ...  \n",
       "21134          -17     1756         8806            ALIVE  \n",
       "21135        -1216     4321         8410            ALIVE  \n",
       "21136         -680     3436         8126            ALIVE  \n",
       "21137         -553     1267         2610            ALIVE  \n",
       "21138           -2     4724        13265            ALIVE  \n",
       "\n",
       "[21139 rows x 11 columns]"
      ]
     },
     "execution_count": 174,
     "metadata": {},
     "output_type": "execute_result"
    }
   ],
   "source": [
    "icusics_db_patients"
   ]
  },
  {
   "cell_type": "code",
   "execution_count": 370,
   "id": "622ad721-4b93-4139-abda-7633d73db4f3",
   "metadata": {},
   "outputs": [],
   "source": [
    "d_variables = pd.read_parquet('s3://icusics-db/d_variables/d_variables.parquet')"
   ]
  },
  {
   "cell_type": "code",
   "execution_count": 373,
   "id": "0edc040a-3b31-4bb7-b124-d4a197e56332",
   "metadata": {},
   "outputs": [
    {
     "data": {
      "text/html": [
       "<div>\n",
       "<style scoped>\n",
       "    .dataframe tbody tr th:only-of-type {\n",
       "        vertical-align: middle;\n",
       "    }\n",
       "\n",
       "    .dataframe tbody tr th {\n",
       "        vertical-align: top;\n",
       "    }\n",
       "\n",
       "    .dataframe thead th {\n",
       "        text-align: right;\n",
       "    }\n",
       "</style>\n",
       "<table border=\"1\" class=\"dataframe\">\n",
       "  <thead>\n",
       "    <tr style=\"text-align: right;\">\n",
       "      <th></th>\n",
       "      <th>hospital_coded</th>\n",
       "      <th>table</th>\n",
       "      <th>a_variableid</th>\n",
       "      <th>choicecode</th>\n",
       "      <th>choicestringvalue</th>\n",
       "      <th>name</th>\n",
       "      <th>abbreviation</th>\n",
       "      <th>description</th>\n",
       "    </tr>\n",
       "  </thead>\n",
       "  <tbody>\n",
       "    <tr>\n",
       "      <th>0</th>\n",
       "      <td>1</td>\n",
       "      <td>derived_numeric</td>\n",
       "      <td>1030000100</td>\n",
       "      <td>NaN</td>\n",
       "      <td>None</td>\n",
       "      <td>Chronic health evaluation</td>\n",
       "      <td>CHE</td>\n",
       "      <td>In APACHE II and A2</td>\n",
       "    </tr>\n",
       "    <tr>\n",
       "      <th>2</th>\n",
       "      <td>1</td>\n",
       "      <td>derived_numeric</td>\n",
       "      <td>1030000140</td>\n",
       "      <td>NaN</td>\n",
       "      <td>None</td>\n",
       "      <td>Highest 24 h APACHE II</td>\n",
       "      <td>APACHE II</td>\n",
       "      <td>Automatically calculated APACHE II score</td>\n",
       "    </tr>\n",
       "    <tr>\n",
       "      <th>15</th>\n",
       "      <td>1</td>\n",
       "      <td>derived_numeric</td>\n",
       "      <td>1030000350</td>\n",
       "      <td>NaN</td>\n",
       "      <td>None</td>\n",
       "      <td>APACHE 2 validated</td>\n",
       "      <td>APACHE2vàlid</td>\n",
       "      <td>Validated APACHE II score</td>\n",
       "    </tr>\n",
       "    <tr>\n",
       "      <th>16</th>\n",
       "      <td>1</td>\n",
       "      <td>derived_numeric</td>\n",
       "      <td>1030000360</td>\n",
       "      <td>NaN</td>\n",
       "      <td>None</td>\n",
       "      <td>APACHE 2 risk of hosp death</td>\n",
       "      <td>R(APACHE2)</td>\n",
       "      <td>Validated R(APACHE II) score</td>\n",
       "    </tr>\n",
       "    <tr>\n",
       "      <th>17</th>\n",
       "      <td>1</td>\n",
       "      <td>derived_numeric</td>\n",
       "      <td>1030000370</td>\n",
       "      <td>NaN</td>\n",
       "      <td>None</td>\n",
       "      <td>APACHE 2 daily worst APS</td>\n",
       "      <td>A2 APS</td>\n",
       "      <td>Validated APS score</td>\n",
       "    </tr>\n",
       "    <tr>\n",
       "      <th>...</th>\n",
       "      <td>...</td>\n",
       "      <td>...</td>\n",
       "      <td>...</td>\n",
       "      <td>...</td>\n",
       "      <td>...</td>\n",
       "      <td>...</td>\n",
       "      <td>...</td>\n",
       "      <td>...</td>\n",
       "    </tr>\n",
       "    <tr>\n",
       "      <th>27102</th>\n",
       "      <td>6</td>\n",
       "      <td>observed_categoric</td>\n",
       "      <td>6014000150</td>\n",
       "      <td>0.0</td>\n",
       "      <td>No intervingut</td>\n",
       "      <td>Intervingut a l'ingrés</td>\n",
       "      <td>Intervingut?</td>\n",
       "      <td>Detalls admissió: Nou pacient. Tipus d'ingrés....</td>\n",
       "    </tr>\n",
       "    <tr>\n",
       "      <th>27103</th>\n",
       "      <td>6</td>\n",
       "      <td>observed_categoric</td>\n",
       "      <td>6014000150</td>\n",
       "      <td>1.0</td>\n",
       "      <td>Quirúrgic urgent</td>\n",
       "      <td>Intervingut a l'ingrés</td>\n",
       "      <td>Intervingut?</td>\n",
       "      <td>Detalls admissió: Nou pacient. Tipus d'ingrés....</td>\n",
       "    </tr>\n",
       "    <tr>\n",
       "      <th>27104</th>\n",
       "      <td>6</td>\n",
       "      <td>observed_categoric</td>\n",
       "      <td>6014000150</td>\n",
       "      <td>2.0</td>\n",
       "      <td>Quirúrgic Programat</td>\n",
       "      <td>Intervingut a l'ingrés</td>\n",
       "      <td>Intervingut?</td>\n",
       "      <td>Detalls admissió: Nou pacient. Tipus d'ingrés....</td>\n",
       "    </tr>\n",
       "    <tr>\n",
       "      <th>27105</th>\n",
       "      <td>6</td>\n",
       "      <td>observed_categoric</td>\n",
       "      <td>6014000150</td>\n",
       "      <td>3.0</td>\n",
       "      <td>None</td>\n",
       "      <td>Intervingut a l'ingrés</td>\n",
       "      <td>Intervingut?</td>\n",
       "      <td>Detalls admissió: Nou pacient. Tipus d'ingrés....</td>\n",
       "    </tr>\n",
       "    <tr>\n",
       "      <th>29871</th>\n",
       "      <td>6</td>\n",
       "      <td>observed_categoric</td>\n",
       "      <td>6019999962</td>\n",
       "      <td>2.0</td>\n",
       "      <td>Calculate!</td>\n",
       "      <td>APACHE 2 calc</td>\n",
       "      <td>A2 calc</td>\n",
       "      <td>APACHE II: trigger to activate validated APACH...</td>\n",
       "    </tr>\n",
       "  </tbody>\n",
       "</table>\n",
       "<p>316 rows × 8 columns</p>\n",
       "</div>"
      ],
      "text/plain": [
       "       hospital_coded               table  a_variableid  choicecode  \\\n",
       "0                   1     derived_numeric    1030000100         NaN   \n",
       "2                   1     derived_numeric    1030000140         NaN   \n",
       "15                  1     derived_numeric    1030000350         NaN   \n",
       "16                  1     derived_numeric    1030000360         NaN   \n",
       "17                  1     derived_numeric    1030000370         NaN   \n",
       "...               ...                 ...           ...         ...   \n",
       "27102               6  observed_categoric    6014000150         0.0   \n",
       "27103               6  observed_categoric    6014000150         1.0   \n",
       "27104               6  observed_categoric    6014000150         2.0   \n",
       "27105               6  observed_categoric    6014000150         3.0   \n",
       "29871               6  observed_categoric    6019999962         2.0   \n",
       "\n",
       "         choicestringvalue                         name  abbreviation  \\\n",
       "0                     None    Chronic health evaluation           CHE   \n",
       "2                     None       Highest 24 h APACHE II     APACHE II   \n",
       "15                    None           APACHE 2 validated  APACHE2vàlid   \n",
       "16                    None  APACHE 2 risk of hosp death    R(APACHE2)   \n",
       "17                    None     APACHE 2 daily worst APS        A2 APS   \n",
       "...                    ...                          ...           ...   \n",
       "27102       No intervingut       Intervingut a l'ingrés  Intervingut?   \n",
       "27103     Quirúrgic urgent       Intervingut a l'ingrés  Intervingut?   \n",
       "27104  Quirúrgic Programat       Intervingut a l'ingrés  Intervingut?   \n",
       "27105                 None       Intervingut a l'ingrés  Intervingut?   \n",
       "29871           Calculate!                APACHE 2 calc       A2 calc   \n",
       "\n",
       "                                             description  \n",
       "0                                    In APACHE II and A2  \n",
       "2               Automatically calculated APACHE II score  \n",
       "15                             Validated APACHE II score  \n",
       "16                          Validated R(APACHE II) score  \n",
       "17                                   Validated APS score  \n",
       "...                                                  ...  \n",
       "27102  Detalls admissió: Nou pacient. Tipus d'ingrés....  \n",
       "27103  Detalls admissió: Nou pacient. Tipus d'ingrés....  \n",
       "27104  Detalls admissió: Nou pacient. Tipus d'ingrés....  \n",
       "27105  Detalls admissió: Nou pacient. Tipus d'ingrés....  \n",
       "29871  APACHE II: trigger to activate validated APACH...  \n",
       "\n",
       "[316 rows x 8 columns]"
      ]
     },
     "execution_count": 373,
     "metadata": {},
     "output_type": "execute_result"
    }
   ],
   "source": [
    "key_chars = 'apache'\n",
    "\n",
    "apache = d_variables[  \n",
    "    (d_variables['name'].str.contains(key_chars, case=False, na=False)) | (\n",
    "    d_variables['description'].str.contains(key_chars, case=False, na=False)) | (\n",
    "    d_variables['choicestringvalue'].str.contains(key_chars, case=False, na=False))]\n",
    "\n",
    "apache"
   ]
  },
  {
   "cell_type": "markdown",
   "id": "3da1584d-44d4-46dc-9f99-50838dd4e1e8",
   "metadata": {},
   "source": [
    "In our study, the albumin is one of the main variables, as it will set the time 0. Therefore, we need to extract this variable. \n",
    "As an example on how to get the variables_id for the extraction of the data, we have use the albumin. "
   ]
  },
  {
   "cell_type": "code",
   "execution_count": 374,
   "id": "10bbeca3-8894-410c-9d5f-0bb6805effe9",
   "metadata": {},
   "outputs": [],
   "source": [
    "d_pharma = pd.read_parquet('s3://icusics-db/d_pharma/d_pharma.parquet')"
   ]
  },
  {
   "cell_type": "code",
   "execution_count": 375,
   "id": "e7ed9e1b-d55e-4c7c-a3e0-735ff329f6b4",
   "metadata": {},
   "outputs": [
    {
     "data": {
      "text/html": [
       "<div>\n",
       "<style scoped>\n",
       "    .dataframe tbody tr th:only-of-type {\n",
       "        vertical-align: middle;\n",
       "    }\n",
       "\n",
       "    .dataframe tbody tr th {\n",
       "        vertical-align: top;\n",
       "    }\n",
       "\n",
       "    .dataframe thead th {\n",
       "        text-align: right;\n",
       "    }\n",
       "</style>\n",
       "<table border=\"1\" class=\"dataframe\">\n",
       "  <thead>\n",
       "    <tr style=\"text-align: right;\">\n",
       "      <th></th>\n",
       "      <th>hospital_coded</th>\n",
       "      <th>a_pharmaid</th>\n",
       "      <th>pharmaname</th>\n",
       "      <th>pharmagroupname</th>\n",
       "      <th>pharmaformunit</th>\n",
       "      <th>pharmadoseunit</th>\n",
       "      <th>pharmadoseformratio</th>\n",
       "      <th>pharmavolumeunit</th>\n",
       "      <th>pharmavolumeformratio</th>\n",
       "    </tr>\n",
       "  </thead>\n",
       "  <tbody>\n",
       "    <tr>\n",
       "      <th>28</th>\n",
       "      <td>1</td>\n",
       "      <td>1001000391</td>\n",
       "      <td>ALBUMINA HUMANA 20% 10 g/50 ml vial</td>\n",
       "      <td>None</td>\n",
       "      <td>ml</td>\n",
       "      <td>g</td>\n",
       "      <td>0.20</td>\n",
       "      <td>ml</td>\n",
       "      <td>1.0</td>\n",
       "    </tr>\n",
       "    <tr>\n",
       "      <th>29</th>\n",
       "      <td>1</td>\n",
       "      <td>1001000392</td>\n",
       "      <td>ALBUMINA HUMANA 5% 25 g/500 ml vial</td>\n",
       "      <td>None</td>\n",
       "      <td>ml</td>\n",
       "      <td>g</td>\n",
       "      <td>0.05</td>\n",
       "      <td>ml</td>\n",
       "      <td>1.0</td>\n",
       "    </tr>\n",
       "    <tr>\n",
       "      <th>814</th>\n",
       "      <td>1</td>\n",
       "      <td>1001001938</td>\n",
       "      <td>ALBUMINA HUMANA 20% 10 g/50 ml vial PED</td>\n",
       "      <td>B05AA</td>\n",
       "      <td>ml</td>\n",
       "      <td>g</td>\n",
       "      <td>0.20</td>\n",
       "      <td>ml</td>\n",
       "      <td>1.0</td>\n",
       "    </tr>\n",
       "    <tr>\n",
       "      <th>867</th>\n",
       "      <td>1</td>\n",
       "      <td>1001002249</td>\n",
       "      <td>ALBUMINA HUMA 5% 25g/500ml PED</td>\n",
       "      <td>A  Cardiovascular</td>\n",
       "      <td>ml</td>\n",
       "      <td>g</td>\n",
       "      <td>0.05</td>\n",
       "      <td>ml</td>\n",
       "      <td>1.0</td>\n",
       "    </tr>\n",
       "    <tr>\n",
       "      <th>1153</th>\n",
       "      <td>2</td>\n",
       "      <td>2001001043</td>\n",
       "      <td>ALBUMINA HUM.20% 50ML VIAL</td>\n",
       "      <td>None</td>\n",
       "      <td>g</td>\n",
       "      <td>ml</td>\n",
       "      <td>5.00</td>\n",
       "      <td>ml</td>\n",
       "      <td>5.0</td>\n",
       "    </tr>\n",
       "    <tr>\n",
       "      <th>1270</th>\n",
       "      <td>2</td>\n",
       "      <td>2001001287</td>\n",
       "      <td>ALBUMINA HUMANA 20% 10 g/50 ml vial</td>\n",
       "      <td>B05AA</td>\n",
       "      <td>ml</td>\n",
       "      <td>g</td>\n",
       "      <td>0.20</td>\n",
       "      <td>ml</td>\n",
       "      <td>1.0</td>\n",
       "    </tr>\n",
       "    <tr>\n",
       "      <th>1900</th>\n",
       "      <td>3</td>\n",
       "      <td>3000000065</td>\n",
       "      <td>ALBUMINA HUMANA 20% 10 g/50 ml vial</td>\n",
       "      <td>.Albúmina</td>\n",
       "      <td>ml</td>\n",
       "      <td>g</td>\n",
       "      <td>0.20</td>\n",
       "      <td>ml</td>\n",
       "      <td>1.0</td>\n",
       "    </tr>\n",
       "    <tr>\n",
       "      <th>1985</th>\n",
       "      <td>3</td>\n",
       "      <td>3000000163</td>\n",
       "      <td>ALBUMINA HUMANA 5% 25 g/500 ml vial</td>\n",
       "      <td>.Albúmina</td>\n",
       "      <td>ml</td>\n",
       "      <td>g</td>\n",
       "      <td>0.05</td>\n",
       "      <td>ml</td>\n",
       "      <td>1.0</td>\n",
       "    </tr>\n",
       "    <tr>\n",
       "      <th>2558</th>\n",
       "      <td>3</td>\n",
       "      <td>3000005306</td>\n",
       "      <td>ALBUMINA HUMANA 20%</td>\n",
       "      <td>.Substituts del plasma</td>\n",
       "      <td>ml</td>\n",
       "      <td>g</td>\n",
       "      <td>0.20</td>\n",
       "      <td>ml</td>\n",
       "      <td>1.0</td>\n",
       "    </tr>\n",
       "    <tr>\n",
       "      <th>3101</th>\n",
       "      <td>4</td>\n",
       "      <td>4001006392</td>\n",
       "      <td>ALBUMINA HUMANA 20%</td>\n",
       "      <td>Coloïds</td>\n",
       "      <td>ml</td>\n",
       "      <td>g</td>\n",
       "      <td>0.20</td>\n",
       "      <td>ml</td>\n",
       "      <td>1.0</td>\n",
       "    </tr>\n",
       "    <tr>\n",
       "      <th>3102</th>\n",
       "      <td>4</td>\n",
       "      <td>4001006393</td>\n",
       "      <td>ALBUMINA HUMANA 5%</td>\n",
       "      <td>Coloïds</td>\n",
       "      <td>ml</td>\n",
       "      <td>g</td>\n",
       "      <td>0.05</td>\n",
       "      <td>ml</td>\n",
       "      <td>1.0</td>\n",
       "    </tr>\n",
       "    <tr>\n",
       "      <th>3269</th>\n",
       "      <td>4</td>\n",
       "      <td>4001008056</td>\n",
       "      <td>ALBUMINA 20%</td>\n",
       "      <td>00. Altres</td>\n",
       "      <td>ml</td>\n",
       "      <td>g</td>\n",
       "      <td>0.20</td>\n",
       "      <td>ml</td>\n",
       "      <td>1.0</td>\n",
       "    </tr>\n",
       "    <tr>\n",
       "      <th>3299</th>\n",
       "      <td>4</td>\n",
       "      <td>4001008093</td>\n",
       "      <td>ALBUMINA Aféresis</td>\n",
       "      <td>00. Altres</td>\n",
       "      <td>ml</td>\n",
       "      <td>g</td>\n",
       "      <td>0.05</td>\n",
       "      <td>ml</td>\n",
       "      <td>1.0</td>\n",
       "    </tr>\n",
       "    <tr>\n",
       "      <th>3382</th>\n",
       "      <td>5</td>\n",
       "      <td>5000000065</td>\n",
       "      <td>ALBUMINA HUMANA 20% 10 g/50 ml vial</td>\n",
       "      <td>Coloïds/cristaloids</td>\n",
       "      <td>ml</td>\n",
       "      <td>g</td>\n",
       "      <td>0.20</td>\n",
       "      <td>ml</td>\n",
       "      <td>1.0</td>\n",
       "    </tr>\n",
       "    <tr>\n",
       "      <th>3830</th>\n",
       "      <td>5</td>\n",
       "      <td>5000005306</td>\n",
       "      <td>ALBUMINA HUMANA 20%</td>\n",
       "      <td>None</td>\n",
       "      <td>ml</td>\n",
       "      <td>g</td>\n",
       "      <td>0.20</td>\n",
       "      <td>ml</td>\n",
       "      <td>1.0</td>\n",
       "    </tr>\n",
       "    <tr>\n",
       "      <th>3933</th>\n",
       "      <td>6</td>\n",
       "      <td>6000000065</td>\n",
       "      <td>ALBUMINA HUMANA 20% 10 g/50 ml vial</td>\n",
       "      <td>Coloïds</td>\n",
       "      <td>ml</td>\n",
       "      <td>g</td>\n",
       "      <td>0.20</td>\n",
       "      <td>ml</td>\n",
       "      <td>1.0</td>\n",
       "    </tr>\n",
       "    <tr>\n",
       "      <th>4534</th>\n",
       "      <td>6</td>\n",
       "      <td>6000005306</td>\n",
       "      <td>ALBUMINA HUMANA 20% 10g/ 50ml vial</td>\n",
       "      <td>RADIOFARMACS PER DIAGNOSTIC</td>\n",
       "      <td>ml</td>\n",
       "      <td>g</td>\n",
       "      <td>0.20</td>\n",
       "      <td>ml</td>\n",
       "      <td>1.0</td>\n",
       "    </tr>\n",
       "  </tbody>\n",
       "</table>\n",
       "</div>"
      ],
      "text/plain": [
       "      hospital_coded  a_pharmaid                               pharmaname  \\\n",
       "28                 1  1001000391      ALBUMINA HUMANA 20% 10 g/50 ml vial   \n",
       "29                 1  1001000392      ALBUMINA HUMANA 5% 25 g/500 ml vial   \n",
       "814                1  1001001938  ALBUMINA HUMANA 20% 10 g/50 ml vial PED   \n",
       "867                1  1001002249           ALBUMINA HUMA 5% 25g/500ml PED   \n",
       "1153               2  2001001043               ALBUMINA HUM.20% 50ML VIAL   \n",
       "1270               2  2001001287      ALBUMINA HUMANA 20% 10 g/50 ml vial   \n",
       "1900               3  3000000065      ALBUMINA HUMANA 20% 10 g/50 ml vial   \n",
       "1985               3  3000000163      ALBUMINA HUMANA 5% 25 g/500 ml vial   \n",
       "2558               3  3000005306                      ALBUMINA HUMANA 20%   \n",
       "3101               4  4001006392                      ALBUMINA HUMANA 20%   \n",
       "3102               4  4001006393                       ALBUMINA HUMANA 5%   \n",
       "3269               4  4001008056                             ALBUMINA 20%   \n",
       "3299               4  4001008093                        ALBUMINA Aféresis   \n",
       "3382               5  5000000065      ALBUMINA HUMANA 20% 10 g/50 ml vial   \n",
       "3830               5  5000005306                      ALBUMINA HUMANA 20%   \n",
       "3933               6  6000000065      ALBUMINA HUMANA 20% 10 g/50 ml vial   \n",
       "4534               6  6000005306       ALBUMINA HUMANA 20% 10g/ 50ml vial   \n",
       "\n",
       "                  pharmagroupname pharmaformunit pharmadoseunit  \\\n",
       "28                           None             ml              g   \n",
       "29                           None             ml              g   \n",
       "814                         B05AA             ml              g   \n",
       "867             A  Cardiovascular             ml              g   \n",
       "1153                         None              g             ml   \n",
       "1270                        B05AA             ml              g   \n",
       "1900                    .Albúmina             ml              g   \n",
       "1985                    .Albúmina             ml              g   \n",
       "2558       .Substituts del plasma             ml              g   \n",
       "3101                      Coloïds             ml              g   \n",
       "3102                      Coloïds             ml              g   \n",
       "3269                   00. Altres             ml              g   \n",
       "3299                   00. Altres             ml              g   \n",
       "3382          Coloïds/cristaloids             ml              g   \n",
       "3830                         None             ml              g   \n",
       "3933                      Coloïds             ml              g   \n",
       "4534  RADIOFARMACS PER DIAGNOSTIC             ml              g   \n",
       "\n",
       "      pharmadoseformratio pharmavolumeunit  pharmavolumeformratio  \n",
       "28                   0.20               ml                    1.0  \n",
       "29                   0.05               ml                    1.0  \n",
       "814                  0.20               ml                    1.0  \n",
       "867                  0.05               ml                    1.0  \n",
       "1153                 5.00               ml                    5.0  \n",
       "1270                 0.20               ml                    1.0  \n",
       "1900                 0.20               ml                    1.0  \n",
       "1985                 0.05               ml                    1.0  \n",
       "2558                 0.20               ml                    1.0  \n",
       "3101                 0.20               ml                    1.0  \n",
       "3102                 0.05               ml                    1.0  \n",
       "3269                 0.20               ml                    1.0  \n",
       "3299                 0.05               ml                    1.0  \n",
       "3382                 0.20               ml                    1.0  \n",
       "3830                 0.20               ml                    1.0  \n",
       "3933                 0.20               ml                    1.0  \n",
       "4534                 0.20               ml                    1.0  "
      ]
     },
     "execution_count": 375,
     "metadata": {},
     "output_type": "execute_result"
    }
   ],
   "source": [
    "key_chars = 'ALBUMINA'\n",
    "d_pharma = d_pharma[ (\n",
    "    (d_pharma['pharmaname'].str.contains(key_chars, case=False, na=False)) ) ]\n",
    "d_pharma"
   ]
  },
  {
   "cell_type": "markdown",
   "id": "3b1aa55e-82c2-4338-9147-9dcf7ad83f81",
   "metadata": {},
   "source": [
    "We talk with clinicians and they decide if the ids are correct. "
   ]
  },
  {
   "cell_type": "code",
   "execution_count": 376,
   "id": "deb952b1-3007-4509-b0b4-bb63708f39f2",
   "metadata": {},
   "outputs": [],
   "source": [
    "albumin_ids = [1001000391,\n",
    "1001000392,\n",
    "1001001938,\n",
    "1001002249,\n",
    "2001001043,\n",
    "2001001287,\n",
    "3000000065,\n",
    "3000000163,\n",
    "3000005306,\n",
    "4001006392,\n",
    "4001006393,\n",
    "4001008056,\n",
    "5000000065,\n",
    "5000005306,\n",
    "6000000065,\n",
    "6000005306]"
   ]
  },
  {
   "cell_type": "markdown",
   "id": "d444b611-2587-4996-88df-5e1c9219914d",
   "metadata": {},
   "source": [
    "# Albumin extraction"
   ]
  },
  {
   "cell_type": "markdown",
   "id": "5835127b-4669-488e-b4d3-3f6d201455ff",
   "metadata": {},
   "source": [
    "Now we have to query the pharma records table in order to extract the data for the albumin that the patients received. "
   ]
  },
  {
   "cell_type": "code",
   "execution_count": 17,
   "id": "245d56d4-1ed8-4ff9-91da-5b1384afe3ef",
   "metadata": {},
   "outputs": [
    {
     "name": "stdout",
     "output_type": "stream",
     "text": [
      "pharma_records/pharma_records_h1.parquet\n",
      "11862232\n",
      "6268\n",
      "pharma_records/pharma_records_h2.parquet\n",
      "1628907\n",
      "4579\n",
      "pharma_records/pharma_records_h3.parquet\n",
      "8273265\n",
      "3739\n",
      "pharma_records/pharma_records_h4.parquet\n",
      "11401460\n",
      "27142\n",
      "pharma_records/pharma_records_h5.parquet\n",
      "2331093\n",
      "425\n",
      "pharma_records/pharma_records_h6.parquet\n",
      "8240802\n",
      "5975\n"
     ]
    }
   ],
   "source": [
    "db = 'icusics-db'\n",
    "hospitales = [\"h1\",\"h2\",\"h3\",\"h4\",\"h5\",\"h6\"]\n",
    "bucket = s3.Bucket(f'{db}')\n",
    "lista_pats = tuple()\n",
    "final_pharmaname = pd.DataFrame()\n",
    "\n",
    "for my_bucket_object in bucket.objects.all(): # runs over all of the buckets\n",
    "    \n",
    "    if all(x in my_bucket_object.key for x in ['pharma_records/']): # checks if the are pharma records\n",
    "        print(my_bucket_object.key)\n",
    "        boundaries = re.findall('\\d+', my_bucket_object.key)\n",
    "        chunk = pd.read_parquet(f's3://{db}/{my_bucket_object.key}', engine=\"fastparquet\")\n",
    "        print(len(chunk))\n",
    "        chunk = chunk[chunk.a_pharmaid.isin(albumin_ids)] # selects only those pharmacs that are albumin\n",
    "        print(len(chunk))\n",
    "        # chunk = chunk[chunk.a_patientid==patid]\n",
    "        final_pharmaname= pd.concat([final_pharmaname,chunk])\n"
   ]
  },
  {
   "cell_type": "markdown",
   "id": "730febf8-af65-42c0-ad06-5d3b99514d6d",
   "metadata": {},
   "source": [
    "We check different numbers from the albumins extracted. "
   ]
  },
  {
   "cell_type": "code",
   "execution_count": 37,
   "id": "d1748b5b-3a5e-4df2-92b4-57fa44b20967",
   "metadata": {},
   "outputs": [
    {
     "data": {
      "text/plain": [
       "IV              20143\n",
       "PIV FLUID       16839\n",
       "PERF IV         10092\n",
       "PIV              1045\n",
       "PerfInterm          5\n",
       "PERF IV CONT        3\n",
       "NO ADMINISTR        1\n",
       "Name: routename, dtype: int64"
      ]
     },
     "execution_count": 37,
     "metadata": {},
     "output_type": "execute_result"
    }
   ],
   "source": [
    "final_pharmaname.routename.value_counts()"
   ]
  },
  {
   "cell_type": "code",
   "execution_count": 34,
   "id": "c3b27d3c-31cb-48a4-a8a6-2696fa31e2e6",
   "metadata": {},
   "outputs": [
    {
     "name": "stdout",
     "output_type": "stream",
     "text": [
      "number of albumins 48128 number of patients 2409\n"
     ]
    }
   ],
   "source": [
    "print(\"number of albumins \"+str(len(final_pharmaname))+\" number of patients \"+str(len(set(tuple(final_pharmaname.a_patientid)))))"
   ]
  },
  {
   "cell_type": "markdown",
   "id": "803c7abf-f27a-4b6b-ac9b-de045d248636",
   "metadata": {},
   "source": [
    "Merge the albumin extracted with the patient database to check if we have from each hospital. "
   ]
  },
  {
   "cell_type": "code",
   "execution_count": 124,
   "id": "d224ded2-ba6c-4b7c-8ebe-05bea2fa797f",
   "metadata": {},
   "outputs": [],
   "source": [
    "cohort = final_pharmaname.merge(icusics_db_patients, how=\"left\", on=\"a_patientid\")"
   ]
  },
  {
   "cell_type": "code",
   "execution_count": 125,
   "id": "07d9c526-5a05-4790-838d-dfb1af887664",
   "metadata": {},
   "outputs": [
    {
     "data": {
      "text/plain": [
       "4    666\n",
       "1    609\n",
       "2    419\n",
       "6    402\n",
       "3    253\n",
       "5     60\n",
       "Name: hospital_coded, dtype: int64"
      ]
     },
     "execution_count": 125,
     "metadata": {},
     "output_type": "execute_result"
    }
   ],
   "source": [
    "cohort[[\"a_patientid\", \"hospital_coded\", \"a_pharmaid\"]].drop_duplicates(\"a_patientid\").hospital_coded.value_counts()"
   ]
  },
  {
   "cell_type": "markdown",
   "id": "4dca3661-42b4-47c3-894a-6036eadc8bc1",
   "metadata": {},
   "source": [
    "# Getting the whole cohort\n",
    "\n",
    "We want to study differences between patients that received albumin and those who didnt. We have to get a group of control patients. "
   ]
  },
  {
   "cell_type": "code",
   "execution_count": 126,
   "id": "b987a81d-6703-4ba0-b34c-5120eefe8418",
   "metadata": {},
   "outputs": [],
   "source": [
    "cohort =cohort[[\"a_patientid\", \"hospital_coded\", \"a_pharmaid\", \"ordernumber\", \"time\", \"givendose\", \"routename\"]]"
   ]
  },
  {
   "cell_type": "markdown",
   "id": "15bdb56f-fcee-42df-b549-2f55d9bb4023",
   "metadata": {},
   "source": [
    "We create a albumina dataframe. "
   ]
  },
  {
   "cell_type": "code",
   "execution_count": null,
   "id": "f6cd5bef-746b-4155-b08c-acb8aa1580b7",
   "metadata": {},
   "outputs": [],
   "source": [
    "cohort[\"albumina\"] = 1\n",
    "icusics_db_patients_with_albumine = icusics_db_patients.merge(cohort.drop_duplicates(\"a_patientid\")[[\"a_patientid\",\"albumina\"]], on=\"a_patientid\", how=\"left\")\n"
   ]
  },
  {
   "cell_type": "markdown",
   "id": "856965ee-5040-417e-b635-7e4090844974",
   "metadata": {},
   "source": [
    "And the controls. We end up having subcohort with 9636 patients. "
   ]
  },
  {
   "cell_type": "code",
   "execution_count": null,
   "id": "b6768d38-2cb4-40d7-a5a8-9b1df2f5216d",
   "metadata": {},
   "outputs": [],
   "source": [
    "ids_sin_alb = list(set(tuple(icusics_db_patients_with_albumine[icusics_db_patients_with_albumine.albumina!=1].a_patientid)))\n",
    "albumineros = icusics_db_patients_with_albumine[icusics_db_patients_with_albumine.albumina==1]\n",
    "import random\n",
    "lista_final = list()\n",
    "for i in range(0,2409*3): # We get 3 times the albumin patients as controls\n",
    "    duplicado=True\n",
    "    while duplicado:\n",
    "        a = random.randint(0,len(ids_sin_alb)) # generate random patient with no albumin\n",
    "        if (ids_sin_alb[a] not in lista_final) & (ids_sin_alb[a] not in list(set(albumineros.a_patientid))): \n",
    "            lista_final.append(ids_sin_alb[a]) # append patient to the lst\n",
    "            duplicado=False\n",
    "subcohort_patients = icusics_db_patients_with_albumine[icusics_db_patients_with_albumine.a_patientid.isin(lista_final)]\n",
    "subcohort = pd.concat([albumineros,subcohort_patients]) # COHORTE CON EL QUE TRABAJAMOS GROUPS BOTH\n",
    "subcohort_pats = list(set(subcohort.a_patientid)) # List of patients"
   ]
  },
  {
   "cell_type": "markdown",
   "id": "fd4c77fc-2171-457c-a23a-914792f0d326",
   "metadata": {},
   "source": [
    "# Extraction of the data\n",
    "\n",
    "First we have generated the extraction of all the variables. Then we will process them and merge them later. \n",
    "\n",
    "**WARNING DISCLOSURE**: At the time of writing this, we are NOT sure that you can extract ALL of the data without merging step by step. If something fails, merge everything until the step you are now. "
   ]
  },
  {
   "cell_type": "code",
   "execution_count": 266,
   "id": "eea340df-b048-49d7-85e6-789344cea973",
   "metadata": {},
   "outputs": [],
   "source": [
    "db = 'icusics-db'\n",
    "hospitales = [\"h1\",\"h2\",\"h3\",\"h4\",\"h5\",\"h6\"]\n",
    "bucket = s3.Bucket(f'{db}')\n",
    "lista_pats = tuple()\n",
    "final_chunk = pd.DataFrame()\n",
    "\n",
    "for my_bucket_object in bucket.objects.all():\n",
    "    \n",
    "    if all(x in my_bucket_object.key for x in ['diagnoses/']):\n",
    "        boundaries = re.findall('\\d+', my_bucket_object.key)\n",
    "        chunk = pd.read_parquet(f's3://{db}/{my_bucket_object.key}', engine=\"fastparquet\")\n",
    "        # chunk = chunk[chunk.a_variableid.isin([3030000140])]\n",
    "        # chunk = chunk[chunk.a_patientid==patid]\n",
    "        final_chunk= pd.concat([final_chunk,chunk])\n"
   ]
  },
  {
   "cell_type": "markdown",
   "id": "c1048bda-f5c3-4c71-86aa-def5fb458c0b",
   "metadata": {},
   "source": [
    "### Select those with cirrosis"
   ]
  },
  {
   "cell_type": "code",
   "execution_count": 321,
   "id": "3e4e030a-4c20-4cff-9914-4bb6b682375d",
   "metadata": {},
   "outputs": [],
   "source": [
    "diagnosticos_pivotar = final_chunk[ (final_chunk.a_patientid.isin(subcohort_pats))]"
   ]
  },
  {
   "cell_type": "code",
   "execution_count": 305,
   "id": "5217f4c4-91c6-4dd7-97b2-62801af2899f",
   "metadata": {},
   "outputs": [],
   "source": [
    "codigos_cortos=[\"571\",\"305\",\"789\",\"572\",\"K70\",\"K74\",\"K72\",\"K76\",\"F10\"]\n",
    "codigos_largos=[\"456.1\",\"456.8\",\"348.3\",\"291.2\",\"573.8\",\"303.9\",\"K71.7\"]\n"
   ]
  },
  {
   "cell_type": "code",
   "execution_count": 322,
   "id": "83080f3b-d321-46d9-aeed-59e1f4cede03",
   "metadata": {},
   "outputs": [],
   "source": [
    "diagnosticos_pivotar_l=diagnosticos_pivotar[diagnosticos_pivotar.referencecode.isin(codigos_largos)]"
   ]
  },
  {
   "cell_type": "code",
   "execution_count": 323,
   "id": "15287e0e-2a57-43e3-8e0f-211d37c2e668",
   "metadata": {},
   "outputs": [
    {
     "name": "stderr",
     "output_type": "stream",
     "text": [
      "/opt/conda/lib/python3.7/site-packages/ipykernel_launcher.py:1: SettingWithCopyWarning: \n",
      "A value is trying to be set on a copy of a slice from a DataFrame.\n",
      "Try using .loc[row_indexer,col_indexer] = value instead\n",
      "\n",
      "See the caveats in the documentation: https://pandas.pydata.org/pandas-docs/stable/user_guide/indexing.html#returning-a-view-versus-a-copy\n",
      "  \"\"\"Entry point for launching an IPython kernel.\n"
     ]
    }
   ],
   "source": [
    "diagnosticos_pivotar[\"codigo\"]=[elem[0:3] for elem in diagnosticos_pivotar.referencecode]"
   ]
  },
  {
   "cell_type": "code",
   "execution_count": 324,
   "id": "0c66ee86-46c5-430c-ab7a-a82bbfdb6025",
   "metadata": {},
   "outputs": [],
   "source": [
    "diagnosticos_pivotar_c=diagnosticos_pivotar[diagnosticos_pivotar.codigo.isin(codigos_cortos)]"
   ]
  },
  {
   "cell_type": "code",
   "execution_count": 325,
   "id": "5f01d832-de83-40f2-9801-a2dcccb9e105",
   "metadata": {},
   "outputs": [
    {
     "data": {
      "text/plain": [
       "(1193, 26)"
      ]
     },
     "execution_count": 325,
     "metadata": {},
     "output_type": "execute_result"
    }
   ],
   "source": [
    "len(diagnosticos_pivotar_c),len(diagnosticos_pivotar_l)"
   ]
  },
  {
   "cell_type": "code",
   "execution_count": 328,
   "id": "a9747a07-13e4-463e-98c2-2be563fabe69",
   "metadata": {},
   "outputs": [],
   "source": [
    "cirrosis = pd.concat([diagnosticos_pivotar_l,diagnosticos_pivotar_c])\n",
    "cirrosis = cirrosis.drop_duplicates(\"a_patientid\")"
   ]
  },
  {
   "cell_type": "code",
   "execution_count": 329,
   "id": "c8fd6363-712d-44ac-9815-4959396a648a",
   "metadata": {},
   "outputs": [],
   "source": [
    "cirrosis[\"Cirrosis\"]=1"
   ]
  },
  {
   "cell_type": "markdown",
   "id": "4c26d8e6-ef97-4906-81f8-b9547b77d89d",
   "metadata": {},
   "source": [
    "### Generate primary diagnost"
   ]
  },
  {
   "cell_type": "code",
   "execution_count": 154,
   "id": "d451e0cf-9318-4d22-9b7f-bbb6f4252bd3",
   "metadata": {},
   "outputs": [
    {
     "data": {
      "text/html": [
       "<div>\n",
       "<style scoped>\n",
       "    .dataframe tbody tr th:only-of-type {\n",
       "        vertical-align: middle;\n",
       "    }\n",
       "\n",
       "    .dataframe tbody tr th {\n",
       "        vertical-align: top;\n",
       "    }\n",
       "\n",
       "    .dataframe thead th {\n",
       "        text-align: right;\n",
       "    }\n",
       "</style>\n",
       "<table border=\"1\" class=\"dataframe\">\n",
       "  <thead>\n",
       "    <tr style=\"text-align: right;\">\n",
       "      <th></th>\n",
       "      <th>a_patientid</th>\n",
       "      <th>diag_type</th>\n",
       "      <th>referencecode</th>\n",
       "      <th>referencecodename</th>\n",
       "    </tr>\n",
       "  </thead>\n",
       "  <tbody>\n",
       "  </tbody>\n",
       "</table>\n",
       "</div>"
      ],
      "text/plain": [
       "Empty DataFrame\n",
       "Columns: [a_patientid, diag_type, referencecode, referencecodename]\n",
       "Index: []"
      ]
     },
     "execution_count": 154,
     "metadata": {},
     "output_type": "execute_result"
    }
   ],
   "source": [
    "diagnosticos_pivotar[diagnosticos_pivotar.referencecode.str.contains(\"A01\")]"
   ]
  },
  {
   "cell_type": "code",
   "execution_count": 140,
   "id": "eaa89961-e8ae-4f87-a1e6-9a379349bf81",
   "metadata": {},
   "outputs": [
    {
     "name": "stderr",
     "output_type": "stream",
     "text": [
      "/opt/conda/lib/python3.7/site-packages/ipykernel_launcher.py:1: SettingWithCopyWarning: \n",
      "A value is trying to be set on a copy of a slice from a DataFrame.\n",
      "Try using .loc[row_indexer,col_indexer] = value instead\n",
      "\n",
      "See the caveats in the documentation: https://pandas.pydata.org/pandas-docs/stable/user_guide/indexing.html#returning-a-view-versus-a-copy\n",
      "  \"\"\"Entry point for launching an IPython kernel.\n"
     ]
    }
   ],
   "source": [
    "diagnosticos_pivotar[\"codigo\"]=[elem[0:3] for elem in diagnosticos_pivotar.referencecode]"
   ]
  },
  {
   "cell_type": "code",
   "execution_count": 147,
   "id": "1e06603d-4932-468f-99b3-38455d7553e8",
   "metadata": {},
   "outputs": [
    {
     "data": {
      "text/html": [
       "<div>\n",
       "<style scoped>\n",
       "    .dataframe tbody tr th:only-of-type {\n",
       "        vertical-align: middle;\n",
       "    }\n",
       "\n",
       "    .dataframe tbody tr th {\n",
       "        vertical-align: top;\n",
       "    }\n",
       "\n",
       "    .dataframe thead th {\n",
       "        text-align: right;\n",
       "    }\n",
       "</style>\n",
       "<table border=\"1\" class=\"dataframe\">\n",
       "  <thead>\n",
       "    <tr style=\"text-align: right;\">\n",
       "      <th></th>\n",
       "      <th>a_patientid</th>\n",
       "      <th>diag_type</th>\n",
       "      <th>referencecode</th>\n",
       "      <th>referencecodename</th>\n",
       "      <th>codigo</th>\n",
       "    </tr>\n",
       "  </thead>\n",
       "  <tbody>\n",
       "    <tr>\n",
       "      <th>7</th>\n",
       "      <td>1000109</td>\n",
       "      <td>primary</td>\n",
       "      <td>Ascites. Líquid a cavitat peritoneal:789</td>\n",
       "      <td>Ascites. Líquid a cavitat peritoneal</td>\n",
       "      <td>789</td>\n",
       "    </tr>\n",
       "    <tr>\n",
       "      <th>13</th>\n",
       "      <td>1001000</td>\n",
       "      <td>primary</td>\n",
       "      <td>Empiema amb fístula. Fístula:broncocutània, br...</td>\n",
       "      <td>Empiema amb fístula. Fístula:broncocutània, br...</td>\n",
       "      <td>510</td>\n",
       "    </tr>\n",
       "    <tr>\n",
       "      <th>14</th>\n",
       "      <td>1001170</td>\n",
       "      <td>primary</td>\n",
       "      <td>Xoc sèptic:785</td>\n",
       "      <td>Xoc sèptic</td>\n",
       "      <td>785</td>\n",
       "    </tr>\n",
       "    <tr>\n",
       "      <th>15</th>\n",
       "      <td>1001170</td>\n",
       "      <td>secondary</td>\n",
       "      <td>Aplasia medul.lar secundaria:284</td>\n",
       "      <td>Aplasia medul.lar secundaria</td>\n",
       "      <td>284</td>\n",
       "    </tr>\n",
       "    <tr>\n",
       "      <th>16</th>\n",
       "      <td>1001170</td>\n",
       "      <td>secondary</td>\n",
       "      <td>Colecistitis gangrenosa:575</td>\n",
       "      <td>Colecistitis gangrenosa</td>\n",
       "      <td>575</td>\n",
       "    </tr>\n",
       "    <tr>\n",
       "      <th>...</th>\n",
       "      <td>...</td>\n",
       "      <td>...</td>\n",
       "      <td>...</td>\n",
       "      <td>...</td>\n",
       "      <td>...</td>\n",
       "    </tr>\n",
       "    <tr>\n",
       "      <th>6540</th>\n",
       "      <td>6991794</td>\n",
       "      <td>secondary</td>\n",
       "      <td>Defecte de la coagulació no especificat:D68</td>\n",
       "      <td>Defecte de la coagulació no especificat</td>\n",
       "      <td>D68</td>\n",
       "    </tr>\n",
       "    <tr>\n",
       "      <th>6541</th>\n",
       "      <td>6991794</td>\n",
       "      <td>secondary</td>\n",
       "      <td>Fallida hepàtica aguda i subaguda\\t:K72</td>\n",
       "      <td>Fallida hepàtica aguda i subaguda\\t</td>\n",
       "      <td>K72</td>\n",
       "    </tr>\n",
       "    <tr>\n",
       "      <th>6542</th>\n",
       "      <td>6991794</td>\n",
       "      <td>secondary</td>\n",
       "      <td>Fallida renal aguda:N17</td>\n",
       "      <td>Fallida renal aguda</td>\n",
       "      <td>N17</td>\n",
       "    </tr>\n",
       "    <tr>\n",
       "      <th>6543</th>\n",
       "      <td>6991794</td>\n",
       "      <td>secondary</td>\n",
       "      <td>Fallida respiratòria aguda:J96</td>\n",
       "      <td>Fallida respiratòria aguda</td>\n",
       "      <td>J96</td>\n",
       "    </tr>\n",
       "    <tr>\n",
       "      <th>6557</th>\n",
       "      <td>6994790</td>\n",
       "      <td>primary</td>\n",
       "      <td>Neoplàsia maligna de pàncrees:C25</td>\n",
       "      <td>Neoplàsia maligna de pàncrees</td>\n",
       "      <td>C25</td>\n",
       "    </tr>\n",
       "  </tbody>\n",
       "</table>\n",
       "<p>13968 rows × 5 columns</p>\n",
       "</div>"
      ],
      "text/plain": [
       "      a_patientid  diag_type  \\\n",
       "7         1000109    primary   \n",
       "13        1001000    primary   \n",
       "14        1001170    primary   \n",
       "15        1001170  secondary   \n",
       "16        1001170  secondary   \n",
       "...           ...        ...   \n",
       "6540      6991794  secondary   \n",
       "6541      6991794  secondary   \n",
       "6542      6991794  secondary   \n",
       "6543      6991794  secondary   \n",
       "6557      6994790    primary   \n",
       "\n",
       "                                          referencecode  \\\n",
       "7              Ascites. Líquid a cavitat peritoneal:789   \n",
       "13    Empiema amb fístula. Fístula:broncocutània, br...   \n",
       "14                                       Xoc sèptic:785   \n",
       "15                     Aplasia medul.lar secundaria:284   \n",
       "16                          Colecistitis gangrenosa:575   \n",
       "...                                                 ...   \n",
       "6540        Defecte de la coagulació no especificat:D68   \n",
       "6541            Fallida hepàtica aguda i subaguda\\t:K72   \n",
       "6542                            Fallida renal aguda:N17   \n",
       "6543                     Fallida respiratòria aguda:J96   \n",
       "6557                  Neoplàsia maligna de pàncrees:C25   \n",
       "\n",
       "                                      referencecodename codigo  \n",
       "7                  Ascites. Líquid a cavitat peritoneal    789  \n",
       "13    Empiema amb fístula. Fístula:broncocutània, br...    510  \n",
       "14                                           Xoc sèptic    785  \n",
       "15                         Aplasia medul.lar secundaria    284  \n",
       "16                              Colecistitis gangrenosa    575  \n",
       "...                                                 ...    ...  \n",
       "6540            Defecte de la coagulació no especificat    D68  \n",
       "6541                Fallida hepàtica aguda i subaguda\\t    K72  \n",
       "6542                                Fallida renal aguda    N17  \n",
       "6543                         Fallida respiratòria aguda    J96  \n",
       "6557                      Neoplàsia maligna de pàncrees    C25  \n",
       "\n",
       "[13968 rows x 5 columns]"
      ]
     },
     "execution_count": 147,
     "metadata": {},
     "output_type": "execute_result"
    }
   ],
   "source": [
    "diagnosticos_pivotar"
   ]
  },
  {
   "cell_type": "markdown",
   "id": "be564e28-0774-4191-b336-956605a4d7ef",
   "metadata": {},
   "source": [
    "### APACHE"
   ]
  },
  {
   "cell_type": "code",
   "execution_count": 256,
   "id": "e26b4636-234a-44e0-84c2-1142a51cd341",
   "metadata": {},
   "outputs": [],
   "source": [
    "key_chars = 'apache'\n",
    "\n",
    "apache = d_variables[  (d_variables['hospital_coded']==2)& (\n",
    "    (d_variables['name'].str.contains(key_chars, case=False, na=False)) | (\n",
    "    d_variables['description'].str.contains(key_chars, case=False, na=False)) | (\n",
    "    d_variables['choicestringvalue'].str.contains(key_chars, case=False, na=False))) ]\n",
    "\n",
    "apache_ids = [1030000140,2030000140,3030000140,4030000140,5030000140,6030000140]\n"
   ]
  },
  {
   "cell_type": "code",
   "execution_count": 273,
   "id": "3b078d07-12c0-4272-9a87-979a89b0c926",
   "metadata": {},
   "outputs": [
    {
     "name": "stdout",
     "output_type": "stream",
     "text": [
      "9605\r"
     ]
    }
   ],
   "source": [
    "bucket = s3.Bucket(f'{db}')\n",
    "lista_pacientes_con_apache = tuple()\n",
    "final_apache = pd.DataFrame()\n",
    "total = len(subcohort_pats) \n",
    "i = 0\n",
    "for my_bucket_object in bucket.objects.all():\n",
    "    \n",
    "    if all(x in my_bucket_object.key for x in ['derived_numeric/']):\n",
    "        boundaries = re.findall('\\d+', my_bucket_object.key)\n",
    "        ub = boundaries.pop(1)\n",
    "        lb = boundaries.pop()\n",
    "        \n",
    "        for patid in subcohort_pats:\n",
    "            if patid>=int(lb) and patid<=int(ub):\n",
    "                print(i, end=\"\\r\")\n",
    "                i+=1\n",
    "                # print(patid,lb,ub)\n",
    "                chunk = pd.read_parquet(f's3://{db}/{my_bucket_object.key}', engine=\"fastparquet\")\n",
    "                chunk = chunk[chunk.a_variableid.isin(apache_ids)]\n",
    "                chunk = chunk[chunk.a_patientid==patid]\n",
    "                final_apache= pd.concat([final_apache,chunk])\n"
   ]
  },
  {
   "cell_type": "code",
   "execution_count": 277,
   "id": "137a37dd-73d4-4517-a3de-a31d5fb05d22",
   "metadata": {},
   "outputs": [],
   "source": [
    "final_apache.to_csv(\"final_apache.csv\")"
   ]
  },
  {
   "cell_type": "markdown",
   "id": "0265fecf-8409-4aea-8ac6-4277a5d72047",
   "metadata": {},
   "source": [
    "## TCRR"
   ]
  },
  {
   "cell_type": "code",
   "execution_count": 3,
   "id": "a2b9543f-86ec-4c8f-9c20-743a209c2b8f",
   "metadata": {},
   "outputs": [],
   "source": [
    "tcrr =[1000001380,2000001380,3000001380,4000001380,5000001380,6000001380] # TCRR"
   ]
  },
  {
   "cell_type": "code",
   "execution_count": null,
   "id": "fdc3ddf0-399e-4784-8c8b-10ff8a6a704f",
   "metadata": {},
   "outputs": [],
   "source": [
    "bucket = s3.Bucket(f'{db}')\n",
    "tcrr = pd.DataFrame()\n",
    "total = len(subcohort_pats)\n",
    "i = 0\n",
    "j=0\n",
    "for my_bucket_object in bucket.objects.all():\n",
    "    \n",
    "    if all(x in my_bucket_object.key for x in ['monitored_numeric/']):\n",
    "        boundaries = re.findall('\\d+', my_bucket_object.key)\n",
    "        ub = boundaries.pop(1)\n",
    "        lb = boundaries.pop()\n",
    "        \n",
    "        for patid in subcohort_pats:\n",
    "            if patid>=int(lb) and patid<=int(ub):\n",
    "                print(round((i/total)*100), end=\"\\r\")\n",
    "                i+=1\n",
    "                # print(patid,lb,ub)\n",
    "                \n",
    "                chunk = pd.read_parquet(f's3://{db}/{my_bucket_object.key}', engine=\"fastparquet\")\n",
    "                chunk = chunk[chunk.a_variableid.isin(tcrr)]\n",
    "                chunk = chunk[chunk.a_patientid==patid]\n",
    "                tcrr= pd.concat([tcrr,chunk])\n"
   ]
  },
  {
   "cell_type": "markdown",
   "id": "728794d0-27b8-47ac-ab35-f9754795aadc",
   "metadata": {},
   "source": [
    "## Monitorizadas numericas"
   ]
  },
  {
   "cell_type": "code",
   "execution_count": 6,
   "id": "9f5b9556-647c-4eee-8f9e-2aa407c2cc1d",
   "metadata": {},
   "outputs": [],
   "source": [
    "monitorizadas = [1000004000,2000004000,3000004000,4000004000,5000004000,6000004000, # saturacion oxigeno\n",
    "                 1000000110,2000000110,3000000110,4000000110,5000000110,6000000110, # PAM \t\n",
    "                 1000000610,2000000610,3000000610,4000000610,5000000610,6000000610, # PAM  NI\n",
    "                 1000000200,2000000200,3000000200,4000000200,5000000200,6000000200, # HR\n",
    "                ]"
   ]
  },
  {
   "cell_type": "code",
   "execution_count": null,
   "id": "bbf64b35-4941-464b-a6b8-577c78d2775f",
   "metadata": {},
   "outputs": [
    {
     "name": "stdout",
     "output_type": "stream",
     "text": [
      "72\r"
     ]
    }
   ],
   "source": [
    "db = 'icusics-db'\n",
    "bucket = s3.Bucket(f'{db}')\n",
    "lista_pacientes_con_apache = tuple()\n",
    "final_mon = pd.DataFrame()\n",
    "total = len(subcohort_pats)\n",
    "i = 0\n",
    "j=0\n",
    "times = subcohort_with_albumine_and_cirrosis_and_apache[[\"a_patientid\",\"time\"]].rename({\"time\":\"tiempo\"},axis=1)\n",
    "for my_bucket_object in bucket.objects.all():\n",
    "    \n",
    "    if all(x in my_bucket_object.key for x in ['monitored_numeric/']):\n",
    "        boundaries = re.findall('\\d+', my_bucket_object.key)\n",
    "        ub = boundaries.pop(1)\n",
    "        lb = boundaries.pop()\n",
    "        \n",
    "        for patid in subcohort_pats:\n",
    "            if patid>=int(lb) and patid<=int(ub):\n",
    "                print(round((i/total)*100), end=\"\\r\")\n",
    "                i+=1\n",
    "                # print(patid,lb,ub)\n",
    "                \n",
    "                chunk = pd.read_parquet(f's3://{db}/{my_bucket_object.key}', engine=\"fastparquet\")\n",
    "                chunk = chunk[chunk.a_variableid.isin(monitorizadas)]\n",
    "                chunk = chunk[chunk.a_patientid==patid]\n",
    "                chunk = chunk.merge(times, on=\"a_patientid\", how=\"left\")\n",
    "                chunk[\"diferencia\"] = chunk[\"tiempo\"]-chunk[\"time\"]\n",
    "                chunk = chunk[(chunk.diferencia>=0) & (chunk.diferencia<=30)] # filter by time of the patient\n",
    "                # print(chunk.shape)\n",
    "                final_mon= pd.concat([final_mon,chunk])\n",
    "                # intenta juntarlo con el time manuel\n",
    "                # \n",
    "                \n",
    "                if final_mon.shape[0] > 1000000:\n",
    "                    final_mon.to_csv(f\"final_mon_{j}.csv\")\n",
    "                    j+=1\n",
    "                    final_mon = pd.DataFrame()"
   ]
  },
  {
   "cell_type": "code",
   "execution_count": 18,
   "id": "130b602a-bad5-4325-922e-ccd36982e2f5",
   "metadata": {},
   "outputs": [],
   "source": [
    "final_mon.to_csv(\"final_mon_real.csv\")"
   ]
  },
  {
   "cell_type": "markdown",
   "id": "4193144a-6525-4494-933e-a97248ec66dd",
   "metadata": {},
   "source": [
    "## lab\n",
    "\n",
    "Change the code down to extract lactates or creats."
   ]
  },
  {
   "cell_type": "code",
   "execution_count": 236,
   "id": "9434463a-608f-4ed0-b977-d6dc64658c1b",
   "metadata": {},
   "outputs": [],
   "source": [
    "lactatos_ids = [1024000570,\n",
    "1024000862,\n",
    "1024000880,\n",
    "2024000485,\n",
    "2024000737,\n",
    "3024000658,\n",
    "3024000660,\n",
    "3024000704,\n",
    "3024002000,\n",
    "4024001486,\n",
    "4024002002,\n",
    "4015003773,\n",
    "5024000658,\n",
    "5024000660,\n",
    "5024000704,\n",
    "5024002000,\n",
    "6024002630,\n",
    "6024002631,\n",
    "6024003988,\n",
    "6024003989]\n",
    "\n",
    "creats_ids = [1020000600, 2020000600, 3024000718, 4020000600, 4024001964, 5024000718, 6020000600]"
   ]
  },
  {
   "cell_type": "code",
   "execution_count": 239,
   "id": "8a132044-6ef0-4123-a195-eded594904bb",
   "metadata": {},
   "outputs": [],
   "source": [
    "db = 'icusics-db'\n",
    "hospitales = [\"h1\",\"h2\",\"h3\",\"h4\",\"h5\",\"h6\"]\n",
    "bucket = s3.Bucket(f'{db}')\n",
    "final_lacts = pd.DataFrame()\n",
    "\n",
    "for my_bucket_object in bucket.objects.all():\n",
    "    \n",
    "    if all(x in my_bucket_object.key for x in ['labresults_numeric/']):\n",
    "        chunk = pd.read_parquet(f's3://{db}/{my_bucket_object.key}', engine=\"fastparquet\")\n",
    "        chunk = chunk[chunk.a_variableid.isin(lactatos_ids)]\n",
    "        \n",
    "        final_lacts = pd.concat([final_lacts,chunk])"
   ]
  },
  {
   "cell_type": "markdown",
   "id": "0a5b5c58-dfc5-43f6-853d-dc3012d6117e",
   "metadata": {},
   "source": [
    "# MERGE DATA"
   ]
  },
  {
   "cell_type": "markdown",
   "id": "92c62756-9096-4f57-b786-22c52dac1508",
   "metadata": {},
   "source": [
    "### Merge with cirrosis."
   ]
  },
  {
   "cell_type": "code",
   "execution_count": null,
   "id": "41515d86-7936-416c-a516-70898b1493e2",
   "metadata": {},
   "outputs": [],
   "source": [
    "subcohort_with_albumine_and_cirrosis=subcohort_pats.merge(cirrosis[[\"a_patientid\",\"Cirrosis\"]], on=\"a_patientid\", how=\"left\")\n",
    "diagnosticos_pivotar = diagnosticos_pivotar[diagnosticos_pivotar.diag_type==\"primary\"]\n",
    "subcohort_with_albumine_and_cirrosis_and_diags=subcohort_with_albumine_and_cirrosis.merge(diagnosticos_pivotar[[\"a_patientid\",\"codigo\"]], on=\"a_patientid\", how=\"left\")\n",
    "\n",
    "subcohort_with_albumine_and_cirrosis_and_diags"
   ]
  },
  {
   "cell_type": "markdown",
   "id": "a17637ef-241c-4aca-937c-f6106a4a3109",
   "metadata": {},
   "source": [
    "### Calculate time for each patient. \n",
    "\n",
    "For those that have albumin, we get their time of first albumin. For the control group, we generated a time between their ICU admission and their disward. "
   ]
  },
  {
   "cell_type": "code",
   "execution_count": 345,
   "id": "2f6d79f0-fdba-444e-a3c2-0b13d068611a",
   "metadata": {},
   "outputs": [],
   "source": [
    "# FIRST we generate a random time for each one.\n",
    "time = list()\n",
    "contador = 0\n",
    "for pat in subcohort_with_albumine_and_cirrosis_and_diags.a_patientid:\n",
    "    paciente = subcohort_with_albumine_and_cirrosis_and_diags[subcohort_with_albumine_and_cirrosis_and_diags.a_patientid==pat]\n",
    "    try:\n",
    "        time.append(random.randint(0,paciente[\"distime\"][contador]))\n",
    "    except: \n",
    "        time.append(random.randint(paciente[\"hospadmtime\"][contador],paciente[\"distime\"][contador]))\n",
    "    contador+=1"
   ]
  },
  {
   "cell_type": "code",
   "execution_count": 373,
   "id": "0adaed9c-c1f9-462b-8224-e7c2c8eb11a7",
   "metadata": {},
   "outputs": [],
   "source": [
    "subcohort_with_albumine_and_cirrosis_and_diags[\"time_random\"] = time"
   ]
  },
  {
   "cell_type": "markdown",
   "id": "72f0a4a9-b535-4084-9942-c63da44811cd",
   "metadata": {},
   "source": [
    "Then we get the albumina time for the patients with albumin"
   ]
  },
  {
   "cell_type": "code",
   "execution_count": 370,
   "id": "603610cb-30f7-4324-91e5-9096a8a06e53",
   "metadata": {},
   "outputs": [],
   "source": [
    "tiempo_albumina = cohort.sort_values([\"a_patientid\",\"time\"]).drop_duplicates(\"a_patientid\").rename({\"time\":\"time_alb\"},axis=1)"
   ]
  },
  {
   "cell_type": "code",
   "execution_count": 375,
   "id": "b9c901fa-5c5b-4759-80dc-9ea42d8588e5",
   "metadata": {},
   "outputs": [],
   "source": [
    "subcohort_with_albumine_and_cirrosis_and_diags = subcohort_with_albumine_and_cirrosis_and_diags.merge(tiempo_albumina[[\"a_patientid\",\"time_alb\"]], on=\"a_patientid\", how=\"left\")"
   ]
  },
  {
   "cell_type": "markdown",
   "id": "9536f43f-3b55-40da-b8b0-1961014c70a5",
   "metadata": {},
   "source": [
    "The time is the albumina time if the patients is not a control patient. "
   ]
  },
  {
   "cell_type": "code",
   "execution_count": 376,
   "id": "f6c58700-c5a3-4140-b135-b1daf3e630e7",
   "metadata": {},
   "outputs": [],
   "source": [
    "subcohort_with_albumine_and_cirrosis_and_diags[\"time\"] = np.where(subcohort_with_albumine_and_cirrosis_and_diags[\"time_alb\"].notnull(),subcohort_with_albumine_and_cirrosis_and_diags[\"time_alb\"],subcohort_with_albumine_and_cirrosis_and_diags[\"time_random\"]) "
   ]
  },
  {
   "cell_type": "markdown",
   "id": "7fe9670f-d495-439b-b527-f7fde99d0da5",
   "metadata": {},
   "source": [
    "### ADD APACHE\n",
    "\n",
    "We select the first apache of each patient and add it to the dataset. "
   ]
  },
  {
   "cell_type": "code",
   "execution_count": null,
   "id": "6d0412a3-cc08-4ceb-baf3-7e33a1ea0a80",
   "metadata": {},
   "outputs": [],
   "source": [
    "apache_sin_dups = final_apache.sort_values([\"a_patientid\",\"time\"]).drop_duplicates(\"a_patientid\")\n",
    "subcohort_with_albumine_and_cirrosis_and_diags_and_apache = subcohort_with_albumine_and_cirrosis_and_diags.merge(apache_sin_dups[[\"a_patientid\",\"value\"]], on=\"a_patientid\", how=\"left\")"
   ]
  },
  {
   "cell_type": "markdown",
   "id": "43635c17-f26b-48e6-9118-52019691bc7a",
   "metadata": {},
   "source": [
    "### ADD TCRR\n",
    "\n",
    "For TCRR we want to make 2 things. First of all, we want to delete those patients that had tcrr BEFORE albumin intake.\n",
    "Second of all, we want to get if a patient had tcrr 3 days AFTER receiving albumin. "
   ]
  },
  {
   "cell_type": "code",
   "execution_count": 128,
   "id": "02cfbf7f-776c-4e7a-bfa5-627ad4dff25c",
   "metadata": {},
   "outputs": [],
   "source": [
    "tcrr = tcrr.rename({\"time\":\"tiempo_tcrr\", \"value\":\"valor_tcrr\"},axis=1)"
   ]
  },
  {
   "cell_type": "code",
   "execution_count": 129,
   "id": "e480426f-e9c8-4657-b373-c3990987ab6d",
   "metadata": {},
   "outputs": [],
   "source": [
    "subcohortv2_tcrr = subcohort_with_albumine_and_cirrosis_and_diags_and_apache.merge(tcrr.drop(\"a_variableid\", axis=1), on=\"a_patientid\", how=\"left\")"
   ]
  },
  {
   "cell_type": "markdown",
   "id": "6ecd1440-41b0-4eba-9610-718963787180",
   "metadata": {},
   "source": [
    "Calculate the difference between albumin time and tcrr time. \n",
    "IF a patient has a diferencia de tiempo tcrr OVER 0, he had TCRR before albumin and this patient will be deleted. "
   ]
  },
  {
   "cell_type": "code",
   "execution_count": 130,
   "id": "f369c655-a58b-47d9-a5f1-d88e2b55d0f1",
   "metadata": {},
   "outputs": [],
   "source": [
    "subcohortv2_tcrr[\"diferencia_tiempo_tcrr\"] = subcohortv2_tcrr[\"time\"] - subcohortv2_tcrr[\"tiempo_tcrr\"]\n",
    "subcohortv2_tcrr[\"eliminar_por_tcrr_before\"] = np.where(subcohortv2_tcrr[\"diferencia_tiempo_tcrr\"]>0,1,0)"
   ]
  },
  {
   "cell_type": "code",
   "execution_count": 131,
   "id": "cbfa7f79-e6bb-472a-8ae7-736a5215cb9c",
   "metadata": {},
   "outputs": [],
   "source": [
    "pacientes_a_eliminar_por_tcrr_antes = subcohortv2_tcrr.sort_values([\"a_patientid\",\"diferencia_tiempo_tcrr\"], ascending=[True, False]).drop_duplicates(\"a_patientid\")"
   ]
  },
  {
   "cell_type": "code",
   "execution_count": 132,
   "id": "4bbce77b-f3d4-419b-9008-8020bf7ddd7d",
   "metadata": {},
   "outputs": [
    {
     "data": {
      "text/plain": [
       "0    9261\n",
       "1     375\n",
       "Name: eliminar_por_tcrr_before, dtype: int64"
      ]
     },
     "execution_count": 132,
     "metadata": {},
     "output_type": "execute_result"
    }
   ],
   "source": [
    "pacientes_a_eliminar_por_tcrr_antes.eliminar_por_tcrr_before.value_counts()"
   ]
  },
  {
   "cell_type": "markdown",
   "id": "f87745cb-38d4-4273-b21e-56376bbc497d",
   "metadata": {},
   "source": [
    "We will delete 375 pats"
   ]
  },
  {
   "cell_type": "code",
   "execution_count": 133,
   "id": "af7c85a7-1ead-4bda-94cd-9859719ca468",
   "metadata": {},
   "outputs": [],
   "source": [
    "pacientes_a_eliminar_por_tcrr_antes = list(set(pacientes_a_eliminar_por_tcrr_antes[pacientes_a_eliminar_por_tcrr_antes.eliminar_por_tcrr_before==1].a_patientid))"
   ]
  },
  {
   "cell_type": "markdown",
   "id": "1eb21fec-2faf-427c-85a8-4a3c7f8fd665",
   "metadata": {},
   "source": [
    "If a patient received tcrr between 1st and 3rd day after albumin, we flag this as a variable. "
   ]
  },
  {
   "cell_type": "code",
   "execution_count": 134,
   "id": "8d79e623-009b-4674-a4a4-d09615a0fc97",
   "metadata": {},
   "outputs": [],
   "source": [
    "subcohortv2_tcrr = subcohortv2_tcrr.sort_values([\"a_patientid\",\"diferencia_tiempo_tcrr\"], ascending=[True, False])\n",
    "subcohortv2_tcrr = subcohortv2_tcrr[(subcohortv2_tcrr.diferencia_tiempo_tcrr<=-1440) & (subcohortv2_tcrr.diferencia_tiempo_tcrr>=-4320)]\n",
    "subcohortv2_tcrr = subcohortv2_tcrr.drop_duplicates(\"a_patientid\")"
   ]
  },
  {
   "cell_type": "code",
   "execution_count": 135,
   "id": "a6ef6e94-111a-486c-ad38-e01042a2e3ed",
   "metadata": {},
   "outputs": [
    {
     "data": {
      "text/plain": [
       "1    424\n",
       "Name: tcrr, dtype: int64"
      ]
     },
     "execution_count": 135,
     "metadata": {},
     "output_type": "execute_result"
    }
   ],
   "source": [
    "subcohortv2_tcrr[\"tcrr\"] = 1\n",
    "subcohortv2_tcrr[\"tcrr\"].value_counts()"
   ]
  },
  {
   "cell_type": "code",
   "execution_count": 175,
   "id": "25113589-32d4-44d5-ae6b-602002c34df9",
   "metadata": {},
   "outputs": [],
   "source": [
    "subcohort_with_albumine_and_cirrosis_and_diags_and_apache_and_tcrr = subcohort_with_albumine_and_cirrosis_and_diags_and_apache[~subcohort_with_albumine_and_cirrosis_and_diags_and_apache.a_patientid.isin(pacientes_a_eliminar_por_tcrr_antes)]\n",
    "subcohort_with_albumine_and_cirrosis_and_diags_and_apache_and_tcrr = subcohort_with_albumine_and_cirrosis_and_diags_and_apache_and_tcrr.merge(subcohortv2_tcrr[[\"a_patientid\",\"tcrr\"]], on=\"a_patientid\", how=\"left\")"
   ]
  },
  {
   "cell_type": "markdown",
   "id": "c3f915cd-9128-49a4-a76e-62902d4ad432",
   "metadata": {},
   "source": [
    "### ADD CREAT\n",
    "\n",
    "For creatinine, we want to obtain the last creatinine before albumine administration, the first creatinine after 3 days of albumin administration and the first creatinine the patient had. "
   ]
  },
  {
   "cell_type": "code",
   "execution_count": null,
   "id": "a55a8268-5815-4172-981b-88ba9938a172",
   "metadata": {},
   "outputs": [],
   "source": [
    "creats_values = pd.read_csv(\"creats_values.csv\",index_col=0)\n",
    "creats_values = creats_values.rename({\"time\":\"tiempo_creat\", \"value\":\"valor_creat\"},axis=1)"
   ]
  },
  {
   "cell_type": "code",
   "execution_count": null,
   "id": "72bb5c22-7ef7-40b7-ae1a-54e5d7984b72",
   "metadata": {},
   "outputs": [],
   "source": [
    "subcohortv2_creat = subcohort_with_albumine_and_cirrosis_and_diags_and_apache_and_tcrr.merge(creats_values.drop(\"a_variableid\", axis=1), on=\"a_patientid\", how=\"left\")"
   ]
  },
  {
   "cell_type": "markdown",
   "id": "024d1a3b-3a61-44b3-a4fb-7de9ff8384f2",
   "metadata": {},
   "source": [
    "Last creatinine before. "
   ]
  },
  {
   "cell_type": "code",
   "execution_count": null,
   "id": "bdd3ae1c-2556-4e41-96d1-02b1858cc4bc",
   "metadata": {},
   "outputs": [],
   "source": [
    "subcohortv2_creat[\"diferencia_tiempo_creat\"] = subcohortv2_creat[\"time\"] - subcohortv2_creat[\"tiempo_creat\"]\n",
    "subcohortv2_creat = subcohortv2_creat.sort_values([\"a_patientid\",\"diferencia_tiempo_creat\"], ascending=[True, True])\n",
    "subcohortv2_creat_before = subcohortv2_creat[(subcohortv2_creat.diferencia_tiempo_creat>=0)]\n",
    "subcohortv2_creat_before = subcohortv2_creat_before.drop_duplicates(\"a_patientid\")\n",
    "subcohortv2_creat_before = subcohortv2_creat_before.rename({\"valor_creat\":\"creat_before\"},axis=1).drop(\"diferencia_tiempo_creat\",axis=1)"
   ]
  },
  {
   "cell_type": "markdown",
   "id": "d586e23f-14a7-41fc-86d0-0bc930bd37e1",
   "metadata": {},
   "source": [
    "First creatinine after. "
   ]
  },
  {
   "cell_type": "code",
   "execution_count": null,
   "id": "4d38bfe6-9992-4eba-86de-6bf4aa77961d",
   "metadata": {},
   "outputs": [],
   "source": [
    "subcohortv2_creat[\"diferencia_tiempo_creat\"] = subcohortv2_creat[\"time\"] - subcohortv2_creat[\"tiempo_creat\"]\n",
    "subcohortv2_creat = subcohortv2_creat.sort_values([\"a_patientid\",\"diferencia_tiempo_creat\"], ascending=[True, False])\n",
    "subcohortv2_creat_later = subcohortv2_creat[(subcohortv2_creat.diferencia_tiempo_creat<=-720)]\n",
    "subcohortv2_creat_later = subcohortv2_creat_later.drop_duplicates(\"a_patientid\")\n",
    "subcohortv2_creat_later = subcohortv2_creat_later.rename({\"valor_creat\":\"creat_later\"},axis=1).drop(\"diferencia_tiempo_creat\",axis=1)"
   ]
  },
  {
   "cell_type": "markdown",
   "id": "4e239d69-7a09-4d48-920d-1bf5ad3c5cfb",
   "metadata": {},
   "source": [
    "First creatinine. "
   ]
  },
  {
   "cell_type": "code",
   "execution_count": null,
   "id": "400111db-58e5-4113-8219-1e313a0f2298",
   "metadata": {},
   "outputs": [],
   "source": [
    "subcohortv2_creat[\"diferencia_tiempo_creat\"] = subcohortv2_creat[\"time\"] - subcohortv2_creat[\"tiempo_creat\"]\n",
    "subcohortv2_creat = subcohortv2_creat.sort_values([\"a_patientid\",\"diferencia_tiempo_creat\"], ascending=[True, False])\n",
    "primera_creat = subcohortv2_creat.sort_values([\"a_patientid\",\"tiempo_creat\"]).drop_duplicates(\"a_patientid\").rename({\"valor_creat\":\"first_creat\"},axis=1)"
   ]
  },
  {
   "cell_type": "code",
   "execution_count": null,
   "id": "b50624f3-5caa-490c-9281-52ff1778c30b",
   "metadata": {},
   "outputs": [],
   "source": [
    "subcohort_with_albumine_and_cirrosis_and_diags_and_apache_and_tcrr_and_creat = subcohort_with_albumine_and_cirrosis_and_diags_and_apache_and_tcrr.merge(subcohortv2_creat_before[[\"a_patientid\",\"creat_before\"]], on=\"a_patientid\", how=\"left\")\n",
    "subcohort_with_albumine_and_cirrosis_and_diags_and_apache_and_tcrr_and_creat = subcohort_with_albumine_and_cirrosis_and_diags_and_apache_and_tcrr_and_creat.merge(subcohortv2_creat_later[[\"a_patientid\",\"creat_later\"]], on=\"a_patientid\", how=\"left\")\n",
    "subcohort_with_albumine_and_cirrosis_and_diags_and_apache_and_tcrr_and_creat = subcohort_with_albumine_and_cirrosis_and_diags_and_apache_and_tcrr_and_creat.merge(primera_creat[[\"a_patientid\",\"first_creat\"]], on=\"a_patientid\", how=\"left\")"
   ]
  },
  {
   "cell_type": "markdown",
   "id": "5eff8d6c-5c3a-4942-95e8-81d2bbab6960",
   "metadata": {},
   "source": [
    "### ADD LACTATE\n",
    "\n",
    "For the lactate, we want to get the lactate between 12 hours and the moment of albumin administration. So we can get the state of the patient before albumin. "
   ]
  },
  {
   "cell_type": "code",
   "execution_count": 244,
   "id": "1415769e-cc78-4337-905b-6f5fa379fb0b",
   "metadata": {},
   "outputs": [],
   "source": [
    "# LACTATO\n",
    "lacts_pats = lacts_pats.rename({\"time\":\"tiempo_lacts\", \"value\":\"valor_lacts\"},axis=1)\n",
    "subcohortv2_lacts = subcohort_with_albumine_and_cirrosis_and_diags_and_apache_and_tcrr_and_creat.merge(lacts_pats.drop(\"a_variableid\", axis=1), on=\"a_patientid\", how=\"left\")"
   ]
  },
  {
   "cell_type": "code",
   "execution_count": 250,
   "id": "3781e585-789e-4ceb-9642-542ef6192460",
   "metadata": {},
   "outputs": [
    {
     "data": {
      "text/html": [
       "<div>\n",
       "<style scoped>\n",
       "    .dataframe tbody tr th:only-of-type {\n",
       "        vertical-align: middle;\n",
       "    }\n",
       "\n",
       "    .dataframe tbody tr th {\n",
       "        vertical-align: top;\n",
       "    }\n",
       "\n",
       "    .dataframe thead th {\n",
       "        text-align: right;\n",
       "    }\n",
       "</style>\n",
       "<table border=\"1\" class=\"dataframe\">\n",
       "  <thead>\n",
       "    <tr style=\"text-align: right;\">\n",
       "      <th></th>\n",
       "      <th>hospital_coded</th>\n",
       "      <th>a_patientid</th>\n",
       "      <th>patientsex</th>\n",
       "      <th>age</th>\n",
       "      <th>height</th>\n",
       "      <th>weight</th>\n",
       "      <th>bmi</th>\n",
       "      <th>hospadmtime</th>\n",
       "      <th>distime</th>\n",
       "      <th>hospdistime</th>\n",
       "      <th>...</th>\n",
       "      <th>tcrr</th>\n",
       "      <th>creat_before</th>\n",
       "      <th>creat_later</th>\n",
       "      <th>first_creat</th>\n",
       "      <th>PAM</th>\n",
       "      <th>HR</th>\n",
       "      <th>PAM_NI</th>\n",
       "      <th>SatO2</th>\n",
       "      <th>tiempo_lacts</th>\n",
       "      <th>lact_before</th>\n",
       "    </tr>\n",
       "  </thead>\n",
       "  <tbody>\n",
       "    <tr>\n",
       "      <th>1</th>\n",
       "      <td>1</td>\n",
       "      <td>1000091</td>\n",
       "      <td>M</td>\n",
       "      <td>70</td>\n",
       "      <td>160</td>\n",
       "      <td>50</td>\n",
       "      <td>20</td>\n",
       "      <td>-549</td>\n",
       "      <td>6034</td>\n",
       "      <td>24482</td>\n",
       "      <td>...</td>\n",
       "      <td>NaN</td>\n",
       "      <td>0.86</td>\n",
       "      <td>NaN</td>\n",
       "      <td>0.86</td>\n",
       "      <td>NaN</td>\n",
       "      <td>98.0</td>\n",
       "      <td>70.0</td>\n",
       "      <td>98.0</td>\n",
       "      <td>1385.0</td>\n",
       "      <td>1.1</td>\n",
       "    </tr>\n",
       "    <tr>\n",
       "      <th>5</th>\n",
       "      <td>1</td>\n",
       "      <td>1000109</td>\n",
       "      <td>M</td>\n",
       "      <td>50</td>\n",
       "      <td>160</td>\n",
       "      <td>80</td>\n",
       "      <td>31</td>\n",
       "      <td>-12516</td>\n",
       "      <td>10118</td>\n",
       "      <td>32875</td>\n",
       "      <td>...</td>\n",
       "      <td>NaN</td>\n",
       "      <td>1.07</td>\n",
       "      <td>0.63</td>\n",
       "      <td>1.28</td>\n",
       "      <td>70.5</td>\n",
       "      <td>74.0</td>\n",
       "      <td>NaN</td>\n",
       "      <td>100.0</td>\n",
       "      <td>1211.0</td>\n",
       "      <td>1.4</td>\n",
       "    </tr>\n",
       "    <tr>\n",
       "      <th>67</th>\n",
       "      <td>1</td>\n",
       "      <td>1002069</td>\n",
       "      <td>F</td>\n",
       "      <td>70</td>\n",
       "      <td>160</td>\n",
       "      <td>60</td>\n",
       "      <td>23</td>\n",
       "      <td>-558</td>\n",
       "      <td>73410</td>\n",
       "      <td>74241</td>\n",
       "      <td>...</td>\n",
       "      <td>1.0</td>\n",
       "      <td>NaN</td>\n",
       "      <td>0.56</td>\n",
       "      <td>1.36</td>\n",
       "      <td>NaN</td>\n",
       "      <td>NaN</td>\n",
       "      <td>NaN</td>\n",
       "      <td>NaN</td>\n",
       "      <td>-76.0</td>\n",
       "      <td>2.6</td>\n",
       "    </tr>\n",
       "    <tr>\n",
       "      <th>163</th>\n",
       "      <td>1</td>\n",
       "      <td>1002286</td>\n",
       "      <td>F</td>\n",
       "      <td>70</td>\n",
       "      <td>160</td>\n",
       "      <td>60</td>\n",
       "      <td>23</td>\n",
       "      <td>-2290</td>\n",
       "      <td>86710</td>\n",
       "      <td>87245</td>\n",
       "      <td>...</td>\n",
       "      <td>NaN</td>\n",
       "      <td>0.76</td>\n",
       "      <td>0.80</td>\n",
       "      <td>0.72</td>\n",
       "      <td>86.0</td>\n",
       "      <td>70.0</td>\n",
       "      <td>NaN</td>\n",
       "      <td>100.0</td>\n",
       "      <td>9612.0</td>\n",
       "      <td>2.1</td>\n",
       "    </tr>\n",
       "    <tr>\n",
       "      <th>209</th>\n",
       "      <td>1</td>\n",
       "      <td>1002635</td>\n",
       "      <td>M</td>\n",
       "      <td>80</td>\n",
       "      <td>160</td>\n",
       "      <td>60</td>\n",
       "      <td>23</td>\n",
       "      <td>0</td>\n",
       "      <td>5267</td>\n",
       "      <td>5984</td>\n",
       "      <td>...</td>\n",
       "      <td>NaN</td>\n",
       "      <td>1.50</td>\n",
       "      <td>NaN</td>\n",
       "      <td>1.23</td>\n",
       "      <td>71.0</td>\n",
       "      <td>60.0</td>\n",
       "      <td>NaN</td>\n",
       "      <td>98.5</td>\n",
       "      <td>4594.0</td>\n",
       "      <td>0.9</td>\n",
       "    </tr>\n",
       "    <tr>\n",
       "      <th>...</th>\n",
       "      <td>...</td>\n",
       "      <td>...</td>\n",
       "      <td>...</td>\n",
       "      <td>...</td>\n",
       "      <td>...</td>\n",
       "      <td>...</td>\n",
       "      <td>...</td>\n",
       "      <td>...</td>\n",
       "      <td>...</td>\n",
       "      <td>...</td>\n",
       "      <td>...</td>\n",
       "      <td>...</td>\n",
       "      <td>...</td>\n",
       "      <td>...</td>\n",
       "      <td>...</td>\n",
       "      <td>...</td>\n",
       "      <td>...</td>\n",
       "      <td>...</td>\n",
       "      <td>...</td>\n",
       "      <td>...</td>\n",
       "      <td>...</td>\n",
       "    </tr>\n",
       "    <tr>\n",
       "      <th>112491</th>\n",
       "      <td>6</td>\n",
       "      <td>6990826</td>\n",
       "      <td>M</td>\n",
       "      <td>50</td>\n",
       "      <td>170</td>\n",
       "      <td>90</td>\n",
       "      <td>31</td>\n",
       "      <td>0</td>\n",
       "      <td>986</td>\n",
       "      <td>6584</td>\n",
       "      <td>...</td>\n",
       "      <td>NaN</td>\n",
       "      <td>0.61</td>\n",
       "      <td>NaN</td>\n",
       "      <td>0.36</td>\n",
       "      <td>NaN</td>\n",
       "      <td>91.0</td>\n",
       "      <td>89.0</td>\n",
       "      <td>99.0</td>\n",
       "      <td>147.0</td>\n",
       "      <td>0.9</td>\n",
       "    </tr>\n",
       "    <tr>\n",
       "      <th>112498</th>\n",
       "      <td>6</td>\n",
       "      <td>6991794</td>\n",
       "      <td>F</td>\n",
       "      <td>80</td>\n",
       "      <td>160</td>\n",
       "      <td>50</td>\n",
       "      <td>20</td>\n",
       "      <td>-1</td>\n",
       "      <td>11390</td>\n",
       "      <td>24101</td>\n",
       "      <td>...</td>\n",
       "      <td>NaN</td>\n",
       "      <td>2.03</td>\n",
       "      <td>NaN</td>\n",
       "      <td>1.78</td>\n",
       "      <td>NaN</td>\n",
       "      <td>79.0</td>\n",
       "      <td>NaN</td>\n",
       "      <td>96.0</td>\n",
       "      <td>6431.0</td>\n",
       "      <td>0.6</td>\n",
       "    </tr>\n",
       "    <tr>\n",
       "      <th>112504</th>\n",
       "      <td>6</td>\n",
       "      <td>6993396</td>\n",
       "      <td>M</td>\n",
       "      <td>70</td>\n",
       "      <td>160</td>\n",
       "      <td>70</td>\n",
       "      <td>27</td>\n",
       "      <td>-2</td>\n",
       "      <td>2628</td>\n",
       "      <td>9682</td>\n",
       "      <td>...</td>\n",
       "      <td>NaN</td>\n",
       "      <td>0.91</td>\n",
       "      <td>NaN</td>\n",
       "      <td>1.46</td>\n",
       "      <td>NaN</td>\n",
       "      <td>91.0</td>\n",
       "      <td>92.0</td>\n",
       "      <td>98.0</td>\n",
       "      <td>1254.0</td>\n",
       "      <td>3.2</td>\n",
       "    </tr>\n",
       "    <tr>\n",
       "      <th>112514</th>\n",
       "      <td>6</td>\n",
       "      <td>6998846</td>\n",
       "      <td>F</td>\n",
       "      <td>80</td>\n",
       "      <td>160</td>\n",
       "      <td>80</td>\n",
       "      <td>31</td>\n",
       "      <td>-553</td>\n",
       "      <td>1267</td>\n",
       "      <td>2610</td>\n",
       "      <td>...</td>\n",
       "      <td>NaN</td>\n",
       "      <td>0.75</td>\n",
       "      <td>NaN</td>\n",
       "      <td>0.82</td>\n",
       "      <td>NaN</td>\n",
       "      <td>71.0</td>\n",
       "      <td>NaN</td>\n",
       "      <td>96.0</td>\n",
       "      <td>859.0</td>\n",
       "      <td>1.1</td>\n",
       "    </tr>\n",
       "    <tr>\n",
       "      <th>112520</th>\n",
       "      <td>6</td>\n",
       "      <td>6999255</td>\n",
       "      <td>F</td>\n",
       "      <td>50</td>\n",
       "      <td>160</td>\n",
       "      <td>120</td>\n",
       "      <td>47</td>\n",
       "      <td>-2</td>\n",
       "      <td>4724</td>\n",
       "      <td>13265</td>\n",
       "      <td>...</td>\n",
       "      <td>NaN</td>\n",
       "      <td>0.56</td>\n",
       "      <td>NaN</td>\n",
       "      <td>0.60</td>\n",
       "      <td>NaN</td>\n",
       "      <td>81.0</td>\n",
       "      <td>NaN</td>\n",
       "      <td>88.0</td>\n",
       "      <td>2964.0</td>\n",
       "      <td>1.4</td>\n",
       "    </tr>\n",
       "  </tbody>\n",
       "</table>\n",
       "<p>4733 rows × 27 columns</p>\n",
       "</div>"
      ],
      "text/plain": [
       "        hospital_coded  a_patientid patientsex  age  height  weight  bmi  \\\n",
       "1                    1      1000091          M   70     160      50   20   \n",
       "5                    1      1000109          M   50     160      80   31   \n",
       "67                   1      1002069          F   70     160      60   23   \n",
       "163                  1      1002286          F   70     160      60   23   \n",
       "209                  1      1002635          M   80     160      60   23   \n",
       "...                ...          ...        ...  ...     ...     ...  ...   \n",
       "112491               6      6990826          M   50     170      90   31   \n",
       "112498               6      6991794          F   80     160      50   20   \n",
       "112504               6      6993396          M   70     160      70   27   \n",
       "112514               6      6998846          F   80     160      80   31   \n",
       "112520               6      6999255          F   50     160     120   47   \n",
       "\n",
       "        hospadmtime  distime  hospdistime  ... tcrr  creat_before creat_later  \\\n",
       "1              -549     6034        24482  ...  NaN          0.86         NaN   \n",
       "5            -12516    10118        32875  ...  NaN          1.07        0.63   \n",
       "67             -558    73410        74241  ...  1.0           NaN        0.56   \n",
       "163           -2290    86710        87245  ...  NaN          0.76        0.80   \n",
       "209               0     5267         5984  ...  NaN          1.50         NaN   \n",
       "...             ...      ...          ...  ...  ...           ...         ...   \n",
       "112491            0      986         6584  ...  NaN          0.61         NaN   \n",
       "112498           -1    11390        24101  ...  NaN          2.03         NaN   \n",
       "112504           -2     2628         9682  ...  NaN          0.91         NaN   \n",
       "112514         -553     1267         2610  ...  NaN          0.75         NaN   \n",
       "112520           -2     4724        13265  ...  NaN          0.56         NaN   \n",
       "\n",
       "        first_creat   PAM    HR  PAM_NI  SatO2  tiempo_lacts  lact_before  \n",
       "1              0.86   NaN  98.0    70.0   98.0        1385.0          1.1  \n",
       "5              1.28  70.5  74.0     NaN  100.0        1211.0          1.4  \n",
       "67             1.36   NaN   NaN     NaN    NaN         -76.0          2.6  \n",
       "163            0.72  86.0  70.0     NaN  100.0        9612.0          2.1  \n",
       "209            1.23  71.0  60.0     NaN   98.5        4594.0          0.9  \n",
       "...             ...   ...   ...     ...    ...           ...          ...  \n",
       "112491         0.36   NaN  91.0    89.0   99.0         147.0          0.9  \n",
       "112498         1.78   NaN  79.0     NaN   96.0        6431.0          0.6  \n",
       "112504         1.46   NaN  91.0    92.0   98.0        1254.0          3.2  \n",
       "112514         0.82   NaN  71.0     NaN   96.0         859.0          1.1  \n",
       "112520         0.60   NaN  81.0     NaN   88.0        2964.0          1.4  \n",
       "\n",
       "[4733 rows x 27 columns]"
      ]
     },
     "execution_count": 250,
     "metadata": {},
     "output_type": "execute_result"
    }
   ],
   "source": [
    "subcohortv2_lacts[\"diferencia_tiempo_lact\"] = subcohortv2_lacts[\"time\"] - subcohortv2_lacts[\"tiempo_lacts\"]\n",
    "subcohortv2_lacts = subcohortv2_lacts.sort_values([\"a_patientid\",\"diferencia_tiempo_lact\"], ascending=[True, True])\n",
    "subcohortv2_lact_before = subcohortv2_lacts[(subcohortv2_lacts.diferencia_tiempo_lact>=0) & (subcohortv2_lacts.diferencia_tiempo_lact<=720)] # filter by name\n",
    "subcohortv2_lact_before = subcohortv2_lact_before.drop_duplicates(\"a_patientid\")\n",
    "subcohortv2_lact_before = subcohortv2_lact_before.rename({\"valor_lacts\":\"lact_before\"},axis=1).drop(\"diferencia_tiempo_lact\",axis=1)\n",
    "subcohortv2_lact_before"
   ]
  },
  {
   "cell_type": "code",
   "execution_count": null,
   "id": "d399e660-3b07-4113-9941-6dd20d099b61",
   "metadata": {},
   "outputs": [],
   "source": [
    "subcohort_with_albumine_and_cirrosis_and_diags_and_apache_and_tcrr_and_creat_and_lact = subcohort_with_albumine_and_cirrosis_and_diags_and_apache_and_tcrr_and_creat.merge(subcohortv2_lact_before[[\"a_patientid\",\"lact_before\"]], on=\"a_patientid\", how=\"left\")"
   ]
  },
  {
   "cell_type": "markdown",
   "id": "1cb8d239-49cc-4297-862d-810f21fe0a47",
   "metadata": {},
   "source": [
    "### ADD Monitorized variables \n",
    "\n",
    "We have extracted PAM, PAM NI, SatO2 and HR. We want the grouped value for each patient 30 mins before the alb administration. "
   ]
  },
  {
   "cell_type": "code",
   "execution_count": 229,
   "id": "b3165c93-0615-4378-8aad-e7bf5cca1557",
   "metadata": {},
   "outputs": [],
   "source": [
    "final_mon_real = pd.read_csv(\"final_mon_real.csv\",index_col=0)\n",
    "\n",
    "final_mon_real = final_mon_real.groupby([\"a_patientid\",\"a_variableid\"]).agg({\"value\":\"median\"}).reset_index() # group by patient and variable\n",
    "final_mon_real[\"a_variableid\"] = final_mon_real[\"a_variableid\"].astype(\"str\")\n",
    "final_mon_real[\"a_variableid\"] = final_mon_real[\"a_variableid\"].str[2:] # simplify the ids so we can merge them together even if they come from different hospitals.\n",
    "final_mon_real = final_mon_real.pivot(index='a_patientid', columns=\"a_variableid\",values=\"value\").reset_index() # pivot table for a file by patient\n",
    "final_mon_real= final_mon_real.rename({\"00000110\":\"PAM\",\"00000200\":\"HR\",\"00000610\":\"PAM_NI\",\"00004000\":\"SatO2\"},axis=1)\n"
   ]
  },
  {
   "cell_type": "code",
   "execution_count": 230,
   "id": "bb3c5643-cdaa-4678-aa70-6cc184e51a99",
   "metadata": {},
   "outputs": [],
   "source": [
    "subcohort_with_albumine_and_cirrosis_and_diags_and_apache_and_tcrr_and_creat_and_lact_and_mons = subcohort_with_albumine_and_cirrosis_and_diags_and_apache_and_tcrr_and_creat_and_lact.merge(final_mon_real[[\"a_patientid\",\"PAM\",\"HR\",\"PAM_NI\",\"SatO2\"]], on=\"a_patientid\", how=\"left\")"
   ]
  },
  {
   "cell_type": "code",
   "execution_count": null,
   "id": "b7c463a1-a3a4-49ed-8d3c-ffbeff5e7d17",
   "metadata": {},
   "outputs": [],
   "source": [
    "subcohort_with_albumine_and_cirrosis_and_diags_and_apache_and_tcrr_and_creat_and_lact_and_mons.to_csv(\"final_db.csv\")"
   ]
  }
 ],
 "metadata": {
  "instance_type": "ml.t3.medium",
  "kernelspec": {
   "display_name": "Python 3 (Data Science)",
   "language": "python",
   "name": "python3__SAGEMAKER_INTERNAL__arn:aws:sagemaker:eu-west-1:470317259841:image/datascience-1.0"
  },
  "language_info": {
   "codemirror_mode": {
    "name": "ipython",
    "version": 3
   },
   "file_extension": ".py",
   "mimetype": "text/x-python",
   "name": "python",
   "nbconvert_exporter": "python",
   "pygments_lexer": "ipython3",
   "version": "3.7.10"
  }
 },
 "nbformat": 4,
 "nbformat_minor": 5
}
